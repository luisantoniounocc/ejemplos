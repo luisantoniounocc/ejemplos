{
  "nbformat": 4,
  "nbformat_minor": 0,
  "metadata": {
    "colab": {
      "provenance": [],
      "authorship_tag": "ABX9TyPtCLuXE2zYGh3DeCETep6r",
      "include_colab_link": true
    },
    "kernelspec": {
      "name": "python3",
      "display_name": "Python 3"
    },
    "language_info": {
      "name": "python"
    }
  },
  "cells": [
    {
      "cell_type": "markdown",
      "metadata": {
        "id": "view-in-github",
        "colab_type": "text"
      },
      "source": [
        "<a href=\"https://colab.research.google.com/github/luisantoniounocc/ejemplos/blob/main/EJERCICIOS_B%C3%81SICOS.ipynb\" target=\"_parent\"><img src=\"https://colab.research.google.com/assets/colab-badge.svg\" alt=\"Open In Colab\"/></a>"
      ]
    },
    {
      "cell_type": "markdown",
      "source": [
        "**Numpy, librerias de ciencia de datos**"
      ],
      "metadata": {
        "id": "BZDZ5AAjuBMT"
      }
    },
    {
      "cell_type": "code",
      "source": [
        "import numpy as np\n",
        "#pip install numpy"
      ],
      "metadata": {
        "id": "VqorylW4uh3j"
      },
      "execution_count": null,
      "outputs": []
    },
    {
      "cell_type": "markdown",
      "source": [
        "ARRAY DE 1 DIMENSION"
      ],
      "metadata": {
        "id": "yoiiq6AHwtbL"
      }
    },
    {
      "cell_type": "code",
      "source": [
        "array_1d=np.array([10,20,30])\n",
        "print(array_1d)"
      ],
      "metadata": {
        "colab": {
          "base_uri": "https://localhost:8080/"
        },
        "id": "Ex-Ytaybvn4N",
        "outputId": "6294c327-e27a-47fc-9a54-2ed1391386b8"
      },
      "execution_count": null,
      "outputs": [
        {
          "output_type": "stream",
          "name": "stdout",
          "text": [
            "[10 20 30]\n"
          ]
        }
      ]
    },
    {
      "cell_type": "markdown",
      "source": [],
      "metadata": {
        "id": "H8GY2laxBYJ_"
      }
    },
    {
      "cell_type": "code",
      "source": [
        "array_1d"
      ],
      "metadata": {
        "colab": {
          "base_uri": "https://localhost:8080/"
        },
        "id": "OAf7cSAawUdD",
        "outputId": "8c6dbd04-3f3e-4b1f-bdad-ed8f88c910b7"
      },
      "execution_count": null,
      "outputs": [
        {
          "output_type": "execute_result",
          "data": {
            "text/plain": [
              "array([10, 20, 30])"
            ]
          },
          "metadata": {},
          "execution_count": 67
        }
      ]
    },
    {
      "cell_type": "markdown",
      "source": [
        "ARRAY DE 2 DIMENSIONES"
      ],
      "metadata": {
        "id": "xX991-DoxAeb"
      }
    },
    {
      "cell_type": "code",
      "source": [
        "array_2d=np.array([(10,20,30), (50,60,70)])\n",
        "array_2d"
      ],
      "metadata": {
        "colab": {
          "base_uri": "https://localhost:8080/"
        },
        "id": "aBSoi2ThxDyb",
        "outputId": "eca79f99-963e-4269-8f1b-8894a961a348"
      },
      "execution_count": null,
      "outputs": [
        {
          "output_type": "execute_result",
          "data": {
            "text/plain": [
              "array([[10, 20, 30],\n",
              "       [50, 60, 70]])"
            ]
          },
          "metadata": {},
          "execution_count": 68
        }
      ]
    },
    {
      "cell_type": "markdown",
      "source": [
        "ARRAY DE 3 DIMENSIONES"
      ],
      "metadata": {
        "id": "5HgXj6IDx6Za"
      }
    },
    {
      "cell_type": "code",
      "source": [
        "array_3d=np.array([(10.6,20,30), (40,50,60), (70,80,90,)], dtype=float)\n",
        "array_3d"
      ],
      "metadata": {
        "colab": {
          "base_uri": "https://localhost:8080/"
        },
        "id": "UPeG77d9x9Pr",
        "outputId": "8534c22b-a516-40f0-e9fc-76f5998826d2"
      },
      "execution_count": null,
      "outputs": [
        {
          "output_type": "execute_result",
          "data": {
            "text/plain": [
              "array([[10.6, 20. , 30. ],\n",
              "       [40. , 50. , 60. ],\n",
              "       [70. , 80. , 90. ]])"
            ]
          },
          "metadata": {},
          "execution_count": 176
        }
      ]
    },
    {
      "cell_type": "markdown",
      "source": [
        "ARRAY CON CEROS DE 3 FILAS Y 4 COLUMNAS"
      ],
      "metadata": {
        "id": "IvBJx5vJ4R5S"
      }
    },
    {
      "cell_type": "code",
      "source": [
        "np.zeros((3,4))"
      ],
      "metadata": {
        "colab": {
          "base_uri": "https://localhost:8080/"
        },
        "id": "qWQeUYPB4bhB",
        "outputId": "7f91aa8b-751c-41b6-e0e8-b04278aea087"
      },
      "execution_count": null,
      "outputs": [
        {
          "output_type": "execute_result",
          "data": {
            "text/plain": [
              "array([[0., 0., 0., 0.],\n",
              "       [0., 0., 0., 0.],\n",
              "       [0., 0., 0., 0.]])"
            ]
          },
          "metadata": {},
          "execution_count": 70
        }
      ]
    },
    {
      "cell_type": "code",
      "source": [
        "print(np.zeros((4,5)))"
      ],
      "metadata": {
        "colab": {
          "base_uri": "https://localhost:8080/"
        },
        "id": "Qdaka6ML4lKp",
        "outputId": "88aef277-9b30-40ef-e0e7-d6c2d0827b3d"
      },
      "execution_count": null,
      "outputs": [
        {
          "output_type": "stream",
          "name": "stdout",
          "text": [
            "[[0. 0. 0. 0. 0.]\n",
            " [0. 0. 0. 0. 0.]\n",
            " [0. 0. 0. 0. 0.]\n",
            " [0. 0. 0. 0. 0.]]\n"
          ]
        }
      ]
    },
    {
      "cell_type": "markdown",
      "source": [
        "ARRAY DE UNOS CON DOS DIMENSIONES DE 4 FILAS Y 5 COLUMNAS"
      ],
      "metadata": {
        "id": "ep9L7AeD40Eh"
      }
    },
    {
      "cell_type": "code",
      "source": [
        "np.ones((2,4,5))"
      ],
      "metadata": {
        "colab": {
          "base_uri": "https://localhost:8080/"
        },
        "id": "64z8xqrF48hy",
        "outputId": "bc1be2cd-1477-40c2-c227-44c07d6786e3"
      },
      "execution_count": null,
      "outputs": [
        {
          "output_type": "execute_result",
          "data": {
            "text/plain": [
              "array([[[1., 1., 1., 1., 1.],\n",
              "        [1., 1., 1., 1., 1.],\n",
              "        [1., 1., 1., 1., 1.],\n",
              "        [1., 1., 1., 1., 1.]],\n",
              "\n",
              "       [[1., 1., 1., 1., 1.],\n",
              "        [1., 1., 1., 1., 1.],\n",
              "        [1., 1., 1., 1., 1.],\n",
              "        [1., 1., 1., 1., 1.]]])"
            ]
          },
          "metadata": {},
          "execution_count": 72
        }
      ]
    },
    {
      "cell_type": "markdown",
      "source": [
        "ARRAYS INTERVALOS Y SALTOS"
      ],
      "metadata": {
        "id": "oCF50zaD5Vyo"
      }
    },
    {
      "cell_type": "code",
      "source": [
        "np.arange(11,30,2)"
      ],
      "metadata": {
        "colab": {
          "base_uri": "https://localhost:8080/"
        },
        "id": "RIZtt-yM71WI",
        "outputId": "e711a6bc-ae31-4947-9f5d-1da009f30124"
      },
      "execution_count": null,
      "outputs": [
        {
          "output_type": "execute_result",
          "data": {
            "text/plain": [
              "array([11, 13, 15, 17, 19, 21, 23, 25, 27, 29])"
            ]
          },
          "metadata": {},
          "execution_count": 153
        }
      ]
    },
    {
      "cell_type": "markdown",
      "source": [
        "INTERVALOS Y DIVISIONES"
      ],
      "metadata": {
        "id": "0gV5oBtu7_KY"
      }
    },
    {
      "cell_type": "code",
      "source": [
        "np.linspace(0,4,7)"
      ],
      "metadata": {
        "colab": {
          "base_uri": "https://localhost:8080/"
        },
        "id": "nVkq2pIm8KN4",
        "outputId": "45ba9443-3973-4668-e770-2c230b417d82"
      },
      "execution_count": null,
      "outputs": [
        {
          "output_type": "execute_result",
          "data": {
            "text/plain": [
              "array([0.        , 0.66666667, 1.33333333, 2.        , 2.66666667,\n",
              "       3.33333333, 4.        ])"
            ]
          },
          "metadata": {},
          "execution_count": 74
        }
      ]
    },
    {
      "cell_type": "markdown",
      "source": [
        "ARRAYS CON VALORES DADOS"
      ],
      "metadata": {
        "id": "yt3XKuqH8jJo"
      }
    },
    {
      "cell_type": "code",
      "source": [
        "np.full((3,3),7)"
      ],
      "metadata": {
        "colab": {
          "base_uri": "https://localhost:8080/"
        },
        "id": "J4vjTqUX8oNw",
        "outputId": "3cd03f3a-edbe-4594-e5cd-c291c24f7abe"
      },
      "execution_count": null,
      "outputs": [
        {
          "output_type": "execute_result",
          "data": {
            "text/plain": [
              "array([[7, 7, 7],\n",
              "       [7, 7, 7],\n",
              "       [7, 7, 7]])"
            ]
          },
          "metadata": {},
          "execution_count": 75
        }
      ]
    },
    {
      "cell_type": "markdown",
      "source": [
        "ARRAYS CON MATRIZ IDENTIDAD, DIAGONAL DE UNOS"
      ],
      "metadata": {
        "id": "wiO2k-de87Ug"
      }
    },
    {
      "cell_type": "code",
      "source": [
        "np.eye(3)"
      ],
      "metadata": {
        "colab": {
          "base_uri": "https://localhost:8080/"
        },
        "id": "ziUkx9mF9T2o",
        "outputId": "b66c2f39-a464-44ac-a5a8-026b9911a41c"
      },
      "execution_count": null,
      "outputs": [
        {
          "output_type": "execute_result",
          "data": {
            "text/plain": [
              "array([[1., 0., 0.],\n",
              "       [0., 1., 0.],\n",
              "       [0., 0., 1.]])"
            ]
          },
          "metadata": {},
          "execution_count": 76
        }
      ]
    },
    {
      "cell_type": "markdown",
      "source": [
        "ARRAY VALORES ALEATORIOS 0-1"
      ],
      "metadata": {
        "id": "dzt8VAWL-eZH"
      }
    },
    {
      "cell_type": "code",
      "source": [
        "np.random.random((4, 4))"
      ],
      "metadata": {
        "colab": {
          "base_uri": "https://localhost:8080/"
        },
        "id": "-vYy928Z-ivx",
        "outputId": "a6b376e6-4df9-446a-9361-f698298c77f6"
      },
      "execution_count": null,
      "outputs": [
        {
          "output_type": "execute_result",
          "data": {
            "text/plain": [
              "array([[0.18019012, 0.57934991, 0.10446754, 0.87497139],\n",
              "       [0.1888319 , 0.07148079, 0.58187479, 0.19294967],\n",
              "       [0.79654979, 0.27573776, 0.27559266, 0.67237288],\n",
              "       [0.92803715, 0.28736633, 0.22206788, 0.45245475]])"
            ]
          },
          "metadata": {},
          "execution_count": 77
        }
      ]
    },
    {
      "cell_type": "markdown",
      "source": [
        "ARRAY DE NUMEROS VACIOS 4*3"
      ],
      "metadata": {
        "id": "7zuZCVU6_Cyn"
      }
    },
    {
      "cell_type": "code",
      "source": [
        "np.empty ((4,3))"
      ],
      "metadata": {
        "colab": {
          "base_uri": "https://localhost:8080/"
        },
        "id": "cFSuPHt6_G83",
        "outputId": "562f6946-bf1f-45dd-db52-0f44b4622ee6"
      },
      "execution_count": null,
      "outputs": [
        {
          "output_type": "execute_result",
          "data": {
            "text/plain": [
              "array([[0., 0., 0.],\n",
              "       [0., 0., 0.],\n",
              "       [0., 0., 0.],\n",
              "       [0., 0., 0.]])"
            ]
          },
          "metadata": {},
          "execution_count": 78
        }
      ]
    },
    {
      "cell_type": "markdown",
      "source": [
        "GRABAR Y CARGAR"
      ],
      "metadata": {
        "id": "V_L3XTu5Be1P"
      }
    },
    {
      "cell_type": "code",
      "source": [
        "#Grabar\n",
        "np.save('mi_array_3d',array_3d)"
      ],
      "metadata": {
        "id": "EHLzearJBhpY"
      },
      "execution_count": null,
      "outputs": []
    },
    {
      "cell_type": "code",
      "source": [
        "#Cargar\n",
        "mi_array=np.load('mi_array_3d.npy')\n",
        "mi_array"
      ],
      "metadata": {
        "colab": {
          "base_uri": "https://localhost:8080/"
        },
        "id": "vA10qgrpCh2O",
        "outputId": "68784e7e-3120-49e4-efd6-a6a7a065a43c"
      },
      "execution_count": null,
      "outputs": [
        {
          "output_type": "execute_result",
          "data": {
            "text/plain": [
              "array([[10., 20., 30.],\n",
              "       [40., 50., 60.],\n",
              "       [70., 80., 90.]])"
            ]
          },
          "metadata": {},
          "execution_count": 80
        }
      ]
    },
    {
      "cell_type": "markdown",
      "source": [
        "GRABAR Y CARGAR DE 2D"
      ],
      "metadata": {
        "id": "aFN_J8wOEE-3"
      }
    },
    {
      "cell_type": "code",
      "source": [
        "#Grabar\n",
        "np.save('mi_array_2d',array_2d)"
      ],
      "metadata": {
        "id": "qCtlkZD-ELbY"
      },
      "execution_count": null,
      "outputs": []
    },
    {
      "cell_type": "code",
      "source": [
        "#Cargar\n",
        "mi_array=np.load('mi_array_2d.npy')\n",
        "mi_array"
      ],
      "metadata": {
        "colab": {
          "base_uri": "https://localhost:8080/"
        },
        "id": "H9CMnDz5EXWm",
        "outputId": "9cb7783c-acc3-4025-c0f6-55d376621e7d"
      },
      "execution_count": null,
      "outputs": [
        {
          "output_type": "execute_result",
          "data": {
            "text/plain": [
              "array([[10, 20, 30],\n",
              "       [50, 60, 70]])"
            ]
          },
          "metadata": {},
          "execution_count": 82
        }
      ]
    },
    {
      "cell_type": "markdown",
      "source": [
        "GRABAR Y CARGAR FICHEROS DE TEXTO"
      ],
      "metadata": {
        "id": "Xy9cF7CHE1sN"
      }
    },
    {
      "cell_type": "code",
      "source": [
        "#grabar de fichero de texto\n",
        "np.savetxt('mi_array.txt', array_2d, delimiter=\" \")"
      ],
      "metadata": {
        "id": "dhgShtoQE7RI"
      },
      "execution_count": null,
      "outputs": []
    },
    {
      "cell_type": "code",
      "source": [
        "#cargar de fichero de texto\n",
        "np.loadtxt('mi_array.txt')"
      ],
      "metadata": {
        "colab": {
          "base_uri": "https://localhost:8080/"
        },
        "id": "x6VGIokzGLC9",
        "outputId": "2dc0052b-ad4e-41c0-cf79-e512649b0f18"
      },
      "execution_count": null,
      "outputs": [
        {
          "output_type": "execute_result",
          "data": {
            "text/plain": [
              "array([[10., 20., 30.],\n",
              "       [50., 60., 70.]])"
            ]
          },
          "metadata": {},
          "execution_count": 84
        }
      ]
    },
    {
      "cell_type": "markdown",
      "source": [
        "EJERCICIO_01"
      ],
      "metadata": {
        "id": "wU--sH4qOfPu"
      }
    },
    {
      "cell_type": "code",
      "source": [
        "# Escribir un programa que almacene las asignaturas de un curso (por ejemplo Matemáticas, Física, Química, Historia y Lengua) en una lista y la muestre por pantalla.\n",
        "\n",
        "asignaturas = [\"Matemáticas\", \"Física\", \"Química\", \"Historia\", \"Lengua\"]\n",
        "asignaturas\n",
        "np.save(\"ejercicios_practicos/ejercicio01\", asignaturas)\n"
      ],
      "metadata": {
        "id": "LJD3LxdtT9zr"
      },
      "execution_count": null,
      "outputs": []
    },
    {
      "cell_type": "code",
      "source": [
        "np.load(\"ejercicios_practicos/ejercicio01.npy\")"
      ],
      "metadata": {
        "colab": {
          "base_uri": "https://localhost:8080/"
        },
        "id": "oImH2moSUsBw",
        "outputId": "7a7f7cbc-a890-4d01-8e91-20c0a4769eaa"
      },
      "execution_count": null,
      "outputs": [
        {
          "output_type": "execute_result",
          "data": {
            "text/plain": [
              "array(['Matemáticas', 'Física', 'Química', 'Historia', 'Lengua'],\n",
              "      dtype='<U11')"
            ]
          },
          "metadata": {},
          "execution_count": 86
        }
      ]
    },
    {
      "cell_type": "markdown",
      "source": [
        "EJERCICIO_02"
      ],
      "metadata": {
        "id": "xiCdeLS_Pfcr"
      }
    },
    {
      "cell_type": "code",
      "source": [
        "asignaturas = [\"Matemáticas\", \"Física\", \"Química\", \"Historia\", \"Lengua\"]\n",
        "np.save(\"ejercicios_practicos/ejercicio02\", asignaturas)"
      ],
      "metadata": {
        "id": "THEYRcN9Phfl"
      },
      "execution_count": null,
      "outputs": []
    },
    {
      "cell_type": "code",
      "source": [
        "asignaturas = np.load(\"ejercicios_practicos/ejercicio02.npy\", allow_pickle=True)\n",
        "\n",
        "for asignatura in asignaturas:\n",
        "    print(\"Yo estudio\", asignatura)"
      ],
      "metadata": {
        "colab": {
          "base_uri": "https://localhost:8080/"
        },
        "id": "uy4T5EfMWCPa",
        "outputId": "9310f43c-8edb-464b-fb84-a7c613a39401"
      },
      "execution_count": null,
      "outputs": [
        {
          "output_type": "stream",
          "name": "stdout",
          "text": [
            "Yo estudio Matemáticas\n",
            "Yo estudio Física\n",
            "Yo estudio Química\n",
            "Yo estudio Historia\n",
            "Yo estudio Lengua\n"
          ]
        }
      ]
    },
    {
      "cell_type": "markdown",
      "source": [
        "EJERCICIO_03"
      ],
      "metadata": {
        "id": "tN2oRF3UZDvC"
      }
    },
    {
      "cell_type": "code",
      "source": [
        "asignaturas = [\"Matemáticas\", \"Física\", \"Química\", \"Historia\", \"Lengua\"]\n",
        "notas = []\n",
        "\n",
        "for asignatura in asignaturas:\n",
        "    nota = input(f\"Introduce la nota de {asignatura}: \")\n",
        "    notas.append(nota)\n",
        "\n",
        "datos = (asignaturas, notas)\n",
        "np.save(\"ejercicios_practicos/ejercicio03\", datos)\n"
      ],
      "metadata": {
        "colab": {
          "base_uri": "https://localhost:8080/"
        },
        "id": "B4Drzg16Za14",
        "outputId": "252feb39-7bb6-4073-c5a9-48b9055db023"
      },
      "execution_count": null,
      "outputs": [
        {
          "name": "stdout",
          "output_type": "stream",
          "text": [
            "Introduce la nota de Matemáticas: 4\n",
            "Introduce la nota de Física: 4\n",
            "Introduce la nota de Química: 5\n",
            "Introduce la nota de Historia: 6\n",
            "Introduce la nota de Lengua: 7\n"
          ]
        }
      ]
    },
    {
      "cell_type": "code",
      "source": [
        "asignaturas, notas = np.load(\"ejercicios_practicos/ejercicio03.npy\", allow_pickle=True)\n",
        "\n",
        "for asignatura, nota in zip(asignaturas, notas):\n",
        "    print(f\"En {asignatura} has sacado {nota}\")\n"
      ],
      "metadata": {
        "colab": {
          "base_uri": "https://localhost:8080/"
        },
        "id": "tD_Ykz29Z_wZ",
        "outputId": "e0c2678c-6d80-46f7-8d69-5f862438dee3"
      },
      "execution_count": null,
      "outputs": [
        {
          "output_type": "stream",
          "name": "stdout",
          "text": [
            "En Matemáticas has sacado 4\n",
            "En Física has sacado 4\n",
            "En Química has sacado 5\n",
            "En Historia has sacado 6\n",
            "En Lengua has sacado 7\n"
          ]
        }
      ]
    },
    {
      "cell_type": "markdown",
      "source": [
        "EJERCICIO_04"
      ],
      "metadata": {
        "id": "E4p9rJvIaqiQ"
      }
    },
    {
      "cell_type": "code",
      "source": [
        "numeros = []\n",
        "\n",
        "for i in range(6):\n",
        "    num = int(input(f\"Introduce el número ganador {i+1}: \"))\n",
        "    numeros.append(num)\n",
        "\n",
        "numeros.sort()\n",
        "\n",
        "np.save(\"ejercicios_practicos/ejercicio04\", numeros)"
      ],
      "metadata": {
        "colab": {
          "base_uri": "https://localhost:8080/"
        },
        "id": "aYxGPlj4auKQ",
        "outputId": "6e65aba1-54e4-4c09-92e2-ab6c6ad7dab2"
      },
      "execution_count": null,
      "outputs": [
        {
          "name": "stdout",
          "output_type": "stream",
          "text": [
            "Introduce el número ganador 1: 1\n",
            "Introduce el número ganador 2: 5\n",
            "Introduce el número ganador 3: 5\n",
            "Introduce el número ganador 4: 6\n",
            "Introduce el número ganador 5: 8\n",
            "Introduce el número ganador 6: 8\n"
          ]
        }
      ]
    },
    {
      "cell_type": "code",
      "source": [
        "numeros = np.load(\"ejercicios_practicos/ejercicio04.npy\")\n",
        "\n",
        "print(\"Números ganadores ordenados:\")\n",
        "for numero in numeros:\n",
        "    print(numero)\n"
      ],
      "metadata": {
        "colab": {
          "base_uri": "https://localhost:8080/"
        },
        "id": "zoEig9R0bTDR",
        "outputId": "5c9c7e90-f585-4adc-ae68-c825af3b3149"
      },
      "execution_count": null,
      "outputs": [
        {
          "output_type": "stream",
          "name": "stdout",
          "text": [
            "Números ganadores ordenados:\n",
            "1\n",
            "5\n",
            "5\n",
            "6\n",
            "8\n",
            "8\n"
          ]
        }
      ]
    },
    {
      "cell_type": "markdown",
      "source": [
        "EJERCICIO_05"
      ],
      "metadata": {
        "id": "_ba4RlTlWfwY"
      }
    },
    {
      "cell_type": "code",
      "source": [
        "import numpy as np\n",
        "\n",
        "numeros = np.arange(1, 11)\n",
        "np.savetxt('ejercicios_practicos/ejercicio05.npy', numeros, fmt='%d')\n",
        "print(\"Números grabados correctamente.\")\n"
      ],
      "metadata": {
        "colab": {
          "base_uri": "https://localhost:8080/"
        },
        "id": "wiYgSygFY1OK",
        "outputId": "0c2bfa26-eb47-46ed-fa22-fbbf34525ea8"
      },
      "execution_count": null,
      "outputs": [
        {
          "output_type": "stream",
          "name": "stdout",
          "text": [
            "Números grabados correctamente.\n"
          ]
        }
      ]
    },
    {
      "cell_type": "code",
      "source": [
        "import numpy as np\n",
        "n = np.loadtxt('ejercicios_practicos/ejercicio05.npy', dtype=int)[::-1]\n",
        "print(', '.join(map(str, n)))\n"
      ],
      "metadata": {
        "colab": {
          "base_uri": "https://localhost:8080/"
        },
        "id": "pamV1IUXZIVK",
        "outputId": "81cd542a-6427-4cc6-daa8-ce295c0c30d8"
      },
      "execution_count": null,
      "outputs": [
        {
          "output_type": "stream",
          "name": "stdout",
          "text": [
            "10, 9, 8, 7, 6, 5, 4, 3, 2, 1\n"
          ]
        }
      ]
    },
    {
      "cell_type": "markdown",
      "source": [
        "EJERCICIO_06"
      ],
      "metadata": {
        "id": "Ey3RVrAmaaa3"
      }
    },
    {
      "cell_type": "code",
      "source": [
        "\n",
        "\n",
        "a = ['Matemáticas', 'Física', 'Química', 'Historia', 'Lengua']\n",
        "n = [float(input(f\"{x}: \")) for x in a]\n",
        "np.save('ejercicios_practicos/ejercicio06.npy', [a, n])\n"
      ],
      "metadata": {
        "colab": {
          "base_uri": "https://localhost:8080/"
        },
        "id": "ChVtKjOeadz3",
        "outputId": "8d62248c-19ff-4fdd-a603-aac5dcb33fd9"
      },
      "execution_count": null,
      "outputs": [
        {
          "name": "stdout",
          "output_type": "stream",
          "text": [
            "Matemáticas: 4\n",
            "Física: 12\n",
            "Química: 7\n",
            "Historia: 4\n",
            "Lengua: 7\n"
          ]
        }
      ]
    },
    {
      "cell_type": "code",
      "source": [
        "\n",
        "a, n = np.load('ejercicios_practicos/ejercicio06.npy', allow_pickle=True)\n",
        "r = [x for x, y in zip(a, n) if float(y) < 10]\n",
        "print(\"Tienes que repetir:\", ', '.join(r))\n"
      ],
      "metadata": {
        "colab": {
          "base_uri": "https://localhost:8080/"
        },
        "id": "VsSd7_UHa2Vr",
        "outputId": "fc7178e3-2c63-4477-98d6-baed3c38b3d7"
      },
      "execution_count": null,
      "outputs": [
        {
          "output_type": "stream",
          "name": "stdout",
          "text": [
            "Tienes que repetir: Matemáticas, Química, Historia, Lengua\n"
          ]
        }
      ]
    },
    {
      "cell_type": "markdown",
      "source": [
        "EJERCICIO_07\n"
      ],
      "metadata": {
        "id": "COaiEpBMehNd"
      }
    },
    {
      "cell_type": "code",
      "source": [
        "import numpy as np\n",
        "import string\n",
        "l = list(string.ascii_lowercase)\n",
        "r = [x for i, x in enumerate(l, 1) if i % 3 != 0]\n",
        "np.save('ejercicios_practicos/ejercicio07.npy', r)\n",
        "\n"
      ],
      "metadata": {
        "id": "qicnfPgNejhs"
      },
      "execution_count": null,
      "outputs": []
    },
    {
      "cell_type": "code",
      "source": [
        "\n",
        "import numpy as np\n",
        "l = np.load('ejercicios_practicos/ejercicio07.npy', allow_pickle=True)\n",
        "print(list(l))\n"
      ],
      "metadata": {
        "colab": {
          "base_uri": "https://localhost:8080/"
        },
        "id": "iTzxeRj_el2s",
        "outputId": "06c2d8b9-7b32-4b5d-e702-97c35942c942"
      },
      "execution_count": null,
      "outputs": [
        {
          "output_type": "stream",
          "name": "stdout",
          "text": [
            "[np.str_('a'), np.str_('b'), np.str_('d'), np.str_('e'), np.str_('g'), np.str_('h'), np.str_('j'), np.str_('k'), np.str_('m'), np.str_('n'), np.str_('p'), np.str_('q'), np.str_('s'), np.str_('t'), np.str_('v'), np.str_('w'), np.str_('y'), np.str_('z')]\n"
          ]
        }
      ]
    },
    {
      "cell_type": "markdown",
      "source": [
        "EJERCICIO_08\n"
      ],
      "metadata": {
        "id": "i9o2vN_se_e4"
      }
    },
    {
      "cell_type": "code",
      "source": [
        "\n",
        "palabra = input(\"Ingresa una palabra: \").lower()\n",
        "np.save('ejercicios_practicos/ejercicio08.npy', [palabra])"
      ],
      "metadata": {
        "colab": {
          "base_uri": "https://localhost:8080/"
        },
        "id": "Tb6ylaEDfEeJ",
        "outputId": "f8a6cd2b-1717-456a-dde2-e13190a6fce5"
      },
      "execution_count": null,
      "outputs": [
        {
          "name": "stdout",
          "output_type": "stream",
          "text": [
            "Ingresa una palabra: 4\n"
          ]
        }
      ]
    },
    {
      "cell_type": "code",
      "source": [
        "\n",
        "palabra = np.load('ejercicios_practicos/ejercicio08.npy', allow_pickle=True)[0]\n",
        "print(\"Es un palíndromo\" if palabra == palabra[::-1] else \"No es un palíndromo\")\n"
      ],
      "metadata": {
        "colab": {
          "base_uri": "https://localhost:8080/"
        },
        "id": "BIwC-18ZfeUE",
        "outputId": "badf9358-9773-4ca2-f29c-3d2144b98760"
      },
      "execution_count": null,
      "outputs": [
        {
          "output_type": "stream",
          "name": "stdout",
          "text": [
            "Es un palíndromo\n"
          ]
        }
      ]
    },
    {
      "cell_type": "markdown",
      "source": [
        "EJERCICIO_09"
      ],
      "metadata": {
        "id": "x9n3Hai4gSqE"
      }
    },
    {
      "cell_type": "code",
      "source": [
        "import numpy as np\n",
        "p = input(\"Ingresa una palabra: \").lower()\n",
        "np.save('ejercicios_practicos/ejercicio09.npy', [p])\n"
      ],
      "metadata": {
        "colab": {
          "base_uri": "https://localhost:8080/"
        },
        "id": "w-Il35nIgVFE",
        "outputId": "3067da5d-d7e9-4aaa-ffa6-d874b42f27e4"
      },
      "execution_count": null,
      "outputs": [
        {
          "name": "stdout",
          "output_type": "stream",
          "text": [
            "Ingresa una palabra: 4\n"
          ]
        }
      ]
    },
    {
      "cell_type": "code",
      "source": [
        "import numpy as np\n",
        "p = np.load('ejercicios_practicos/ejercicio09.npy', allow_pickle=True)[0]\n",
        "for v in 'aeiou':\n",
        "    print(f\"{v}: {p.count(v)}\")\n"
      ],
      "metadata": {
        "colab": {
          "base_uri": "https://localhost:8080/"
        },
        "id": "4ud4PUw6gh2m",
        "outputId": "159e5386-52b5-45ee-85e5-2610a5ffc0f8"
      },
      "execution_count": null,
      "outputs": [
        {
          "output_type": "stream",
          "name": "stdout",
          "text": [
            "a: 0\n",
            "e: 0\n",
            "i: 0\n",
            "o: 0\n",
            "u: 0\n"
          ]
        }
      ]
    },
    {
      "cell_type": "markdown",
      "source": [
        "EJERCICIO_10"
      ],
      "metadata": {
        "id": "nU206Hcfgv5w"
      }
    },
    {
      "cell_type": "code",
      "source": [
        "import numpy as np\n",
        "precios = [50, 75, 46, 22, 80, 65, 8]\n",
        "np.save('ejercicios_practicos/ejercicio10.npy', precios)\n"
      ],
      "metadata": {
        "id": "-9Yq7ILcg8-i"
      },
      "execution_count": null,
      "outputs": []
    },
    {
      "cell_type": "code",
      "source": [
        "import numpy as np\n",
        "precios = np.load('ejercicios_practicos/ejercicio10.npy')\n",
        "print(\"Menor precio:\", min(precios))\n",
        "print(\"Mayor precio:\", max(precios))\n"
      ],
      "metadata": {
        "colab": {
          "base_uri": "https://localhost:8080/"
        },
        "id": "M2t0kDnOhaen",
        "outputId": "ff4503b8-d506-48f0-adc0-654453802e7f"
      },
      "execution_count": null,
      "outputs": [
        {
          "output_type": "stream",
          "name": "stdout",
          "text": [
            "Menor precio: 8\n",
            "Mayor precio: 80\n"
          ]
        }
      ]
    },
    {
      "cell_type": "markdown",
      "source": [
        "EJERCICIO_11\n"
      ],
      "metadata": {
        "id": "yYD3FvVGhy8x"
      }
    },
    {
      "cell_type": "code",
      "source": [
        "import numpy as np\n",
        "v1 = [1, 2, 3]\n",
        "v2 = [-1, 0, 2]\n",
        "np.save('ejercicios_practicos/ejercicio11.npy', [v1, v2])\n"
      ],
      "metadata": {
        "id": "9ToYdWJ0h1vi"
      },
      "execution_count": null,
      "outputs": []
    },
    {
      "cell_type": "code",
      "source": [
        "import numpy as np\n",
        "v1, v2 = np.load('ejercicios_practicos/ejercicio11.npy', allow_pickle=True)\n",
        "producto = sum(a * b for a, b in zip(v1, v2))\n",
        "print(\"Producto escalar:\", producto)\n"
      ],
      "metadata": {
        "colab": {
          "base_uri": "https://localhost:8080/"
        },
        "id": "0qn1rjDlh-t9",
        "outputId": "2e43cc59-8329-4963-8c34-c87d5274683c"
      },
      "execution_count": null,
      "outputs": [
        {
          "output_type": "stream",
          "name": "stdout",
          "text": [
            "Producto escalar: 5\n"
          ]
        }
      ]
    },
    {
      "cell_type": "markdown",
      "source": [
        "EJERCICIO_12\n"
      ],
      "metadata": {
        "id": "CQ7vYCaWiW_3"
      }
    },
    {
      "cell_type": "code",
      "source": [
        "import numpy as np\n",
        "A = [[1, 2], [3, 4]]\n",
        "B = [[2, 0], [1, 2]]\n",
        "np.save('ejercicios_practicos/ejercicio12.npy', [A, B])\n"
      ],
      "metadata": {
        "id": "0V7a2DWniY_A"
      },
      "execution_count": null,
      "outputs": []
    },
    {
      "cell_type": "code",
      "source": [
        "import numpy as np\n",
        "A, B = np.load('ejercicios_practicos/ejercicio12.npy', allow_pickle=True)\n",
        "resultado = np.matmul(A, B)\n",
        "print(\"Producto de matrices:\")\n",
        "print(resultado)\n"
      ],
      "metadata": {
        "colab": {
          "base_uri": "https://localhost:8080/"
        },
        "id": "B053bMlpibWv",
        "outputId": "a9eedffe-e4a4-431f-9470-c30aa5b8453b"
      },
      "execution_count": null,
      "outputs": [
        {
          "output_type": "stream",
          "name": "stdout",
          "text": [
            "Producto de matrices:\n",
            "[[ 4  4]\n",
            " [10  8]]\n"
          ]
        }
      ]
    },
    {
      "cell_type": "markdown",
      "source": [
        "EJERCICIO_13\n"
      ],
      "metadata": {
        "id": "GOZBS2nyj0sU"
      }
    },
    {
      "cell_type": "code",
      "source": [
        "import numpy as np\n",
        "entrada = input(\"Ingresa números separados por comas: \")\n",
        "numeros = [float(x) for x in entrada.split(',')]\n",
        "np.save('ejercicios_practicos/ejercicio13.npy', numeros)\n"
      ],
      "metadata": {
        "colab": {
          "base_uri": "https://localhost:8080/"
        },
        "id": "4yRN4pUKj25E",
        "outputId": "b83982cd-97d9-42db-ba28-7dde3aeb4dbe"
      },
      "execution_count": null,
      "outputs": [
        {
          "name": "stdout",
          "output_type": "stream",
          "text": [
            "Ingresa números separados por comas: 10,60,70\n"
          ]
        }
      ]
    },
    {
      "cell_type": "code",
      "source": [
        "import numpy as np\n",
        "numeros = np.load('ejercicios_practicos/ejercicio13.npy')\n",
        "media = np.mean(numeros)\n",
        "desviacion = np.std(numeros)\n",
        "print(\"Media:\", media)\n",
        "print(\"Desviación típica:\", desviacion)\n"
      ],
      "metadata": {
        "colab": {
          "base_uri": "https://localhost:8080/"
        },
        "id": "q0gPacfYj5Ns",
        "outputId": "d1c9c547-d068-4b01-ba28-33f7364e1c6d"
      },
      "execution_count": null,
      "outputs": [
        {
          "output_type": "stream",
          "name": "stdout",
          "text": [
            "Media: 46.666666666666664\n",
            "Desviación típica: 26.246692913372705\n"
          ]
        }
      ]
    },
    {
      "cell_type": "markdown",
      "source": [
        "TIPOS DE DATOS\n"
      ],
      "metadata": {
        "id": "qKLd9aOgg6Va"
      }
    },
    {
      "cell_type": "code",
      "source": [
        "#ENTEROS\n",
        "np.int64\n"
      ],
      "metadata": {
        "colab": {
          "base_uri": "https://localhost:8080/"
        },
        "id": "lTsQS5mjg8f6",
        "outputId": "65e83541-4c4a-4e31-f698-c787126466bc"
      },
      "execution_count": null,
      "outputs": [
        {
          "output_type": "execute_result",
          "data": {
            "text/plain": [
              "numpy.int64"
            ]
          },
          "metadata": {},
          "execution_count": 95
        }
      ]
    },
    {
      "cell_type": "code",
      "source": [
        "#Decimal, flotantes\n",
        "np.float64"
      ],
      "metadata": {
        "colab": {
          "base_uri": "https://localhost:8080/"
        },
        "id": "fi-9tNGPhd1t",
        "outputId": "7db545d1-f62c-4ae7-d0af-72c3eb43148e"
      },
      "execution_count": null,
      "outputs": [
        {
          "output_type": "execute_result",
          "data": {
            "text/plain": [
              "numpy.float64"
            ]
          },
          "metadata": {},
          "execution_count": 96
        }
      ]
    },
    {
      "cell_type": "code",
      "source": [
        "#cpmplejos\n",
        "np.complex64"
      ],
      "metadata": {
        "colab": {
          "base_uri": "https://localhost:8080/"
        },
        "id": "uWOWKDnvitYF",
        "outputId": "f1d0f51f-fca9-4a62-f0a5-c367f4a15d77"
      },
      "execution_count": null,
      "outputs": [
        {
          "output_type": "execute_result",
          "data": {
            "text/plain": [
              "numpy.complex64"
            ]
          },
          "metadata": {},
          "execution_count": 117
        }
      ]
    },
    {
      "cell_type": "code",
      "source": [
        "#boleanos\n",
        "np.bool_"
      ],
      "metadata": {
        "colab": {
          "base_uri": "https://localhost:8080/"
        },
        "id": "f20D470hjLaz",
        "outputId": "86eda828-6334-4b1c-e9a5-5fcc065e2a69"
      },
      "execution_count": null,
      "outputs": [
        {
          "output_type": "execute_result",
          "data": {
            "text/plain": [
              "numpy.bool"
            ]
          },
          "metadata": {},
          "execution_count": 120
        }
      ]
    },
    {
      "cell_type": "code",
      "source": [
        "#objetos\n",
        "np.object_"
      ],
      "metadata": {
        "colab": {
          "base_uri": "https://localhost:8080/"
        },
        "id": "-7zWqfpClcPD",
        "outputId": "eecf2bf5-cfc1-48b8-a68f-7bf1e4a463a8"
      },
      "execution_count": null,
      "outputs": [
        {
          "output_type": "execute_result",
          "data": {
            "text/plain": [
              "numpy.object_"
            ]
          },
          "metadata": {},
          "execution_count": 121
        }
      ]
    },
    {
      "cell_type": "code",
      "source": [
        "#cadenas de texto\n",
        "np.strings"
      ],
      "metadata": {
        "colab": {
          "base_uri": "https://localhost:8080/"
        },
        "id": "lTdKsm0Ylplz",
        "outputId": "53dbb32d-f2e2-469c-9e8a-7f0ce7a08f7d"
      },
      "execution_count": null,
      "outputs": [
        {
          "output_type": "execute_result",
          "data": {
            "text/plain": [
              "<module 'numpy.strings' from '/usr/local/lib/python3.11/dist-packages/numpy/strings/__init__.py'>"
            ]
          },
          "metadata": {},
          "execution_count": 123
        }
      ]
    },
    {
      "cell_type": "code",
      "source": [
        "#formatos\n",
        "np.bytes_"
      ],
      "metadata": {
        "colab": {
          "base_uri": "https://localhost:8080/"
        },
        "id": "hJ_WKIGwmAEL",
        "outputId": "abaf83d2-3d3d-4634-fad0-d937d1cd88ae"
      },
      "execution_count": null,
      "outputs": [
        {
          "output_type": "execute_result",
          "data": {
            "text/plain": [
              "numpy.bytes_"
            ]
          },
          "metadata": {},
          "execution_count": 125
        }
      ]
    },
    {
      "cell_type": "markdown",
      "source": [
        "PROPIEDADES Y CARACTERISTICAS DE ENTORNOS"
      ],
      "metadata": {
        "id": "GdH11ZYqm6Zc"
      }
    },
    {
      "cell_type": "code",
      "source": [
        "array_3d"
      ],
      "metadata": {
        "colab": {
          "base_uri": "https://localhost:8080/"
        },
        "id": "xuxKEZjSofqT",
        "outputId": "fb3a4091-8975-49bf-84c2-6e8032fe99e1"
      },
      "execution_count": null,
      "outputs": [
        {
          "output_type": "execute_result",
          "data": {
            "text/plain": [
              "array([[10.6, 20. , 30. ],\n",
              "       [40. , 50. , 60. ],\n",
              "       [70. , 80. , 90. ]])"
            ]
          },
          "metadata": {},
          "execution_count": 181
        }
      ]
    },
    {
      "cell_type": "code",
      "source": [
        "array_3d.shape"
      ],
      "metadata": {
        "colab": {
          "base_uri": "https://localhost:8080/"
        },
        "id": "IUI2cjAtnENM",
        "outputId": "3ab05169-4ea6-4673-8bcb-5d1cbc2d6ea7"
      },
      "execution_count": null,
      "outputs": [
        {
          "output_type": "execute_result",
          "data": {
            "text/plain": [
              "(3, 3)"
            ]
          },
          "metadata": {},
          "execution_count": 138
        }
      ]
    },
    {
      "cell_type": "code",
      "source": [
        "#longitud\n",
        "len(array_3d)"
      ],
      "metadata": {
        "colab": {
          "base_uri": "https://localhost:8080/"
        },
        "id": "bRgzfbBMnuVt",
        "outputId": "b0238cfb-57d5-4c63-b417-ed3fa13ca629"
      },
      "execution_count": null,
      "outputs": [
        {
          "output_type": "execute_result",
          "data": {
            "text/plain": [
              "3"
            ]
          },
          "metadata": {},
          "execution_count": 137
        }
      ]
    },
    {
      "cell_type": "code",
      "source": [
        "#numero de dimensiones\n",
        "array_3d.ndim"
      ],
      "metadata": {
        "colab": {
          "base_uri": "https://localhost:8080/"
        },
        "id": "FkqgNHMLoJzb",
        "outputId": "0b29a01b-a512-4452-a964-d7b84fc0ef9d"
      },
      "execution_count": null,
      "outputs": [
        {
          "output_type": "execute_result",
          "data": {
            "text/plain": [
              "2"
            ]
          },
          "metadata": {},
          "execution_count": 179
        }
      ]
    },
    {
      "cell_type": "code",
      "source": [
        "array_3d=np.array([(10,20,30), (40,50,60), (70,80,90,)], dtype=float)\n",
        "array_3d"
      ],
      "metadata": {
        "colab": {
          "base_uri": "https://localhost:8080/"
        },
        "id": "gGzWBD2upkVc",
        "outputId": "616f039a-c13c-4e00-a0e1-b70ea1311977"
      },
      "execution_count": null,
      "outputs": [
        {
          "output_type": "execute_result",
          "data": {
            "text/plain": [
              "array([[10., 20., 30.],\n",
              "       [40., 50., 60.],\n",
              "       [70., 80., 90.]])"
            ]
          },
          "metadata": {},
          "execution_count": 170
        }
      ]
    },
    {
      "cell_type": "code",
      "source": [
        "#numero de dimensiones\n",
        "array_3d.ndim"
      ],
      "metadata": {
        "colab": {
          "base_uri": "https://localhost:8080/"
        },
        "id": "dKc0VAkxp5K0",
        "outputId": "b2d76871-1d91-4aa7-e9df-e824d0cd0f29"
      },
      "execution_count": null,
      "outputs": [
        {
          "output_type": "execute_result",
          "data": {
            "text/plain": [
              "2"
            ]
          },
          "metadata": {},
          "execution_count": 171
        }
      ]
    },
    {
      "cell_type": "code",
      "source": [
        "#tipos de datos\n",
        "array_3d.dtype"
      ],
      "metadata": {
        "colab": {
          "base_uri": "https://localhost:8080/"
        },
        "id": "lyuZYhNHscot",
        "outputId": "b8161a46-9a09-4434-fa7f-3b618a9237ab"
      },
      "execution_count": null,
      "outputs": [
        {
          "output_type": "execute_result",
          "data": {
            "text/plain": [
              "dtype('float64')"
            ]
          },
          "metadata": {},
          "execution_count": 173
        }
      ]
    },
    {
      "cell_type": "code",
      "source": [
        "array_3d.dtype.name"
      ],
      "metadata": {
        "colab": {
          "base_uri": "https://localhost:8080/",
          "height": 35
        },
        "id": "UEI16lR6s42K",
        "outputId": "5b1bc538-bd7c-49d5-9309-328b86792119"
      },
      "execution_count": null,
      "outputs": [
        {
          "output_type": "execute_result",
          "data": {
            "text/plain": [
              "'float64'"
            ],
            "application/vnd.google.colaboratory.intrinsic+json": {
              "type": "string"
            }
          },
          "metadata": {},
          "execution_count": 174
        }
      ]
    },
    {
      "cell_type": "code",
      "source": [
        "#convertir de un tipo a otro tipo de dato\n",
        "array_3d.astype(int)"
      ],
      "metadata": {
        "colab": {
          "base_uri": "https://localhost:8080/"
        },
        "id": "P8y0li_-tDfF",
        "outputId": "08d827c6-dcce-4644-e19f-67b20030aaa4"
      },
      "execution_count": null,
      "outputs": [
        {
          "output_type": "execute_result",
          "data": {
            "text/plain": [
              "array([[10, 20, 30],\n",
              "       [40, 50, 60],\n",
              "       [70, 80, 90]])"
            ]
          },
          "metadata": {},
          "execution_count": 186
        }
      ]
    },
    {
      "cell_type": "markdown",
      "source": [
        "OPERADORES MATEMATICOS"
      ],
      "metadata": {
        "id": "6zgN5ghat8YT"
      }
    },
    {
      "cell_type": "code",
      "source": [
        "array_1d"
      ],
      "metadata": {
        "colab": {
          "base_uri": "https://localhost:8080/"
        },
        "id": "YiK0YdELuAr0",
        "outputId": "444c79e7-8ee3-4e71-e30b-d15baa03265b"
      },
      "execution_count": null,
      "outputs": [
        {
          "output_type": "execute_result",
          "data": {
            "text/plain": [
              "array([10, 20, 30])"
            ]
          },
          "metadata": {},
          "execution_count": 189
        }
      ]
    },
    {
      "cell_type": "code",
      "source": [
        "#array de ejemplos\n",
        "array1=np.random.random((4,4))\n",
        "array1"
      ],
      "metadata": {
        "colab": {
          "base_uri": "https://localhost:8080/"
        },
        "id": "mTXI9GF5uPe9",
        "outputId": "dbda10ff-f9fe-454b-9642-570b61719d76"
      },
      "execution_count": null,
      "outputs": [
        {
          "output_type": "execute_result",
          "data": {
            "text/plain": [
              "array([[0.81252445, 0.15849393, 0.6312526 , 0.60037206],\n",
              "       [0.53314766, 0.26553936, 0.37819197, 0.26952405],\n",
              "       [0.251989  , 0.34649771, 0.62560801, 0.78590738],\n",
              "       [0.33783912, 0.8262931 , 0.97522746, 0.96301305]])"
            ]
          },
          "metadata": {},
          "execution_count": 193
        }
      ]
    },
    {
      "cell_type": "code",
      "source": [
        "#array 2\n",
        "array2=np.random.random((4,4))\n",
        "array2"
      ],
      "metadata": {
        "colab": {
          "base_uri": "https://localhost:8080/"
        },
        "id": "wqeuvb-Buibd",
        "outputId": "74051c14-4965-46e2-9ebd-97d871a73ef4"
      },
      "execution_count": null,
      "outputs": [
        {
          "output_type": "execute_result",
          "data": {
            "text/plain": [
              "array([[0.28043203, 0.31749901, 0.21967925, 0.6636258 ],\n",
              "       [0.06734644, 0.96870181, 0.32841055, 0.60567801],\n",
              "       [0.14291466, 0.73092618, 0.66272045, 0.91203214],\n",
              "       [0.92790241, 0.57801421, 0.30857166, 0.94265486]])"
            ]
          },
          "metadata": {},
          "execution_count": 194
        }
      ]
    },
    {
      "cell_type": "code",
      "source": [
        "#array 3\n",
        "array3=np.random.random((4,4))\n",
        "array3"
      ],
      "metadata": {
        "colab": {
          "base_uri": "https://localhost:8080/"
        },
        "id": "jbKILvIfuw7F",
        "outputId": "6a3dc6bd-0900-4912-bd92-bbe1d988e70d"
      },
      "execution_count": null,
      "outputs": [
        {
          "output_type": "execute_result",
          "data": {
            "text/plain": [
              "array([[0.84155466, 0.75627077, 0.59819228, 0.75823243],\n",
              "       [0.4705259 , 0.65724271, 0.95119315, 0.88515777],\n",
              "       [0.04066116, 0.0738565 , 0.37229254, 0.67518823],\n",
              "       [0.81514769, 0.40070185, 0.24735535, 0.36069776]])"
            ]
          },
          "metadata": {},
          "execution_count": 202
        }
      ]
    },
    {
      "cell_type": "code",
      "source": [
        "#suma\n",
        "array4=(array1+array2+array3)\n",
        "array4"
      ],
      "metadata": {
        "colab": {
          "base_uri": "https://localhost:8080/"
        },
        "id": "XpcJ1csdu_bO",
        "outputId": "5139092f-41d4-4b65-e4a1-23daf3eb6105"
      },
      "execution_count": null,
      "outputs": [
        {
          "output_type": "execute_result",
          "data": {
            "text/plain": [
              "array([[1.62504891, 0.31698786, 1.2625052 , 1.20074413],\n",
              "       [1.06629533, 0.53107873, 0.75638394, 0.53904811],\n",
              "       [0.50397801, 0.69299542, 1.25121602, 1.57181477],\n",
              "       [0.67567824, 1.6525862 , 1.95045491, 1.9260261 ]])"
            ]
          },
          "metadata": {},
          "execution_count": 219
        }
      ]
    },
    {
      "cell_type": "code",
      "source": [
        "#otra forma de sumar\n",
        "array4=np.add(array1, array2, array3)\n",
        "array4"
      ],
      "metadata": {
        "colab": {
          "base_uri": "https://localhost:8080/"
        },
        "id": "BOpm753mvTZe",
        "outputId": "e12ad07a-2056-48f4-bf3e-b87510a6e765"
      },
      "execution_count": null,
      "outputs": [
        {
          "output_type": "execute_result",
          "data": {
            "text/plain": [
              "array([[1.09295648, 0.47599294, 0.85093186, 1.26399787],\n",
              "       [0.6004941 , 1.23424117, 0.70660252, 0.87520206],\n",
              "       [0.39490367, 1.07742389, 1.28832846, 1.69793952],\n",
              "       [1.26574153, 1.40430731, 1.28379912, 1.90566791]])"
            ]
          },
          "metadata": {},
          "execution_count": 205
        }
      ]
    },
    {
      "cell_type": "code",
      "source": [
        "#resta\n",
        "array4=array1-array2-array3\n",
        "array4"
      ],
      "metadata": {
        "colab": {
          "base_uri": "https://localhost:8080/"
        },
        "id": "NJXScPPJvo1O",
        "outputId": "8141f9bd-e5b6-4631-9ef5-a3d0605449a4"
      },
      "execution_count": null,
      "outputs": [
        {
          "output_type": "execute_result",
          "data": {
            "text/plain": [
              "array([[ 0.30423454, -0.20932675,  0.27290025, -0.46167613],\n",
              "       [ 0.42989563, -0.96039091, -0.07442081, -0.49939875],\n",
              "       [ 0.07306142, -0.63769272, -0.45171566, -0.84289755],\n",
              "       [-0.90354502, -0.22933027,  0.36572823, -0.88743073]])"
            ]
          },
          "metadata": {},
          "execution_count": 223
        }
      ]
    },
    {
      "cell_type": "code",
      "source": [
        "#resta de otra forma\n",
        "array4=np.subtract(array1, array2, array3)\n",
        "array4"
      ],
      "metadata": {
        "colab": {
          "base_uri": "https://localhost:8080/"
        },
        "id": "0neNF3ZzwrL2",
        "outputId": "0ff4e891-c532-4ed7-c176-336fe1e308dd"
      },
      "execution_count": null,
      "outputs": [
        {
          "output_type": "execute_result",
          "data": {
            "text/plain": [
              "array([[ 0.53209243, -0.15900509,  0.41157335, -0.06325374],\n",
              "       [ 0.46580122, -0.70316245,  0.04978142, -0.33615396],\n",
              "       [ 0.10907434, -0.38442847, -0.03711244, -0.12612476],\n",
              "       [-0.59006329,  0.24827889,  0.66665579,  0.0203582 ]])"
            ]
          },
          "metadata": {},
          "execution_count": 221
        }
      ]
    },
    {
      "cell_type": "code",
      "source": [
        "#multiplicacion\n",
        "array4=np.multiply(array1,array2,array3)\n",
        "array4"
      ],
      "metadata": {
        "colab": {
          "base_uri": "https://localhost:8080/"
        },
        "id": "zalnzxjXwL02",
        "outputId": "1102a7e8-b7bc-43cb-afe2-ff01ea68fef5"
      },
      "execution_count": null,
      "outputs": [
        {
          "output_type": "execute_result",
          "data": {
            "text/plain": [
              "array([[0.22785788, 0.05032167, 0.1386731 , 0.39842239],\n",
              "       [0.0359056 , 0.25722846, 0.12420223, 0.16324479],\n",
              "       [0.03601292, 0.25326425, 0.41460322, 0.71677279],\n",
              "       [0.31348173, 0.47760916, 0.30092756, 0.90778893]])"
            ]
          },
          "metadata": {},
          "execution_count": 222
        }
      ]
    },
    {
      "cell_type": "code",
      "source": [
        "#division\n",
        "array4=np.divide(array1,array2)\n",
        "array4"
      ],
      "metadata": {
        "colab": {
          "base_uri": "https://localhost:8080/"
        },
        "id": "b4Am2m9DxgO-",
        "outputId": "e390b556-89b8-47c5-b4aa-161c9d35347f"
      },
      "execution_count": null,
      "outputs": [
        {
          "output_type": "execute_result",
          "data": {
            "text/plain": [
              "array([[2.89740247, 0.49919502, 2.87351942, 0.90468463],\n",
              "       [7.91649375, 0.27411879, 1.15158289, 0.44499561],\n",
              "       [1.76321308, 0.47405295, 0.94399985, 0.86171018],\n",
              "       [0.36408906, 1.42953769, 3.16045694, 1.02159666]])"
            ]
          },
          "metadata": {},
          "execution_count": 224
        }
      ]
    },
    {
      "cell_type": "code",
      "source": [
        "#exponentes\n",
        "np.exp(array1)"
      ],
      "metadata": {
        "colab": {
          "base_uri": "https://localhost:8080/"
        },
        "id": "N0g-nfY8x4i-",
        "outputId": "07335921-6e22-4d28-a4e9-738406406ec7"
      },
      "execution_count": null,
      "outputs": [
        {
          "output_type": "execute_result",
          "data": {
            "text/plain": [
              "array([[2.2535899 , 1.17174481, 1.87996395, 1.82279687],\n",
              "       [1.7042884 , 1.30413419, 1.45964312, 1.30934113],\n",
              "       [1.28658189, 1.41410625, 1.86938221, 2.1943972 ],\n",
              "       [1.40191494, 2.28483338, 2.65177031, 2.61957752]])"
            ]
          },
          "metadata": {},
          "execution_count": 225
        }
      ]
    },
    {
      "cell_type": "code",
      "source": [
        "#seno\n",
        "np.sin(array1)"
      ],
      "metadata": {
        "colab": {
          "base_uri": "https://localhost:8080/"
        },
        "id": "VwyvupQ8yEvf",
        "outputId": "1f1b425f-fec3-4317-db5a-972d31fe320c"
      },
      "execution_count": null,
      "outputs": [
        {
          "output_type": "execute_result",
          "data": {
            "text/plain": [
              "array([[0.72602547, 0.15783119, 0.59015643, 0.56494951],\n",
              "       [0.50824666, 0.26242976, 0.36924081, 0.2662727 ],\n",
              "       [0.24933064, 0.33960575, 0.58559024, 0.70746676],\n",
              "       [0.33144913, 0.73542461, 0.82782951, 0.82091589]])"
            ]
          },
          "metadata": {},
          "execution_count": 226
        }
      ]
    },
    {
      "cell_type": "code",
      "source": [
        "#coseno\n",
        "np.cos(array1)"
      ],
      "metadata": {
        "colab": {
          "base_uri": "https://localhost:8080/"
        },
        "id": "ZhlG8h6kyRY3",
        "outputId": "3cb8e505-2f5f-4abb-fce6-74a286e1ccfc"
      },
      "execution_count": null,
      "outputs": [
        {
          "output_type": "execute_result",
          "data": {
            "text/plain": [
              "array([[0.68766781, 0.98746611, 0.80728891, 0.82512548],\n",
              "       [0.86121155, 0.9649511 , 0.92933375, 0.96389774],\n",
              "       [0.96841842, 0.94056788, 0.81060723, 0.70674662],\n",
              "       [0.94347309, 0.67760655, 0.56097977, 0.57104912]])"
            ]
          },
          "metadata": {},
          "execution_count": 227
        }
      ]
    },
    {
      "cell_type": "code",
      "source": [
        "#logaritmo\n",
        "log_array=np.log(array3)\n",
        "array3"
      ],
      "metadata": {
        "colab": {
          "base_uri": "https://localhost:8080/"
        },
        "id": "0h6yRAa4yYQ2",
        "outputId": "2c2d7170-986e-49c1-fd57-81ff3bc3050f"
      },
      "execution_count": null,
      "outputs": [
        {
          "output_type": "execute_result",
          "data": {
            "text/plain": [
              "array([[0.22785788, 0.05032167, 0.1386731 , 0.39842239],\n",
              "       [0.0359056 , 0.25722846, 0.12420223, 0.16324479],\n",
              "       [0.03601292, 0.25326425, 0.41460322, 0.71677279],\n",
              "       [0.31348173, 0.47760916, 0.30092756, 0.90778893]])"
            ]
          },
          "metadata": {},
          "execution_count": 231
        }
      ]
    },
    {
      "cell_type": "markdown",
      "source": [
        "COMPARACIONES ENTRE MATRICES"
      ],
      "metadata": {
        "id": "7oTqE82Zyzrt"
      }
    },
    {
      "cell_type": "code",
      "source": [
        "#==\n",
        "array1==array2"
      ],
      "metadata": {
        "colab": {
          "base_uri": "https://localhost:8080/"
        },
        "id": "Z_HqkJ7Wyyq4",
        "outputId": "bab81087-ea94-48c4-dacf-9fde712d9e94"
      },
      "execution_count": null,
      "outputs": [
        {
          "output_type": "execute_result",
          "data": {
            "text/plain": [
              "array([[False, False, False, False],\n",
              "       [False, False, False, False],\n",
              "       [False, False, False, False],\n",
              "       [False, False, False, False]])"
            ]
          },
          "metadata": {},
          "execution_count": 234
        }
      ]
    },
    {
      "cell_type": "code",
      "source": [
        "# <\n",
        "array1"
      ],
      "metadata": {
        "colab": {
          "base_uri": "https://localhost:8080/"
        },
        "id": "scMjvrInzF32",
        "outputId": "e8cd320b-5e51-431d-c7b8-99353759320d"
      },
      "execution_count": null,
      "outputs": [
        {
          "output_type": "execute_result",
          "data": {
            "text/plain": [
              "array([[0.81252445, 0.15849393, 0.6312526 , 0.60037206],\n",
              "       [0.53314766, 0.26553936, 0.37819197, 0.26952405],\n",
              "       [0.251989  , 0.34649771, 0.62560801, 0.78590738],\n",
              "       [0.33783912, 0.8262931 , 0.97522746, 0.96301305]])"
            ]
          },
          "metadata": {},
          "execution_count": 235
        }
      ]
    },
    {
      "cell_type": "code",
      "source": [
        "array1<0.5"
      ],
      "metadata": {
        "colab": {
          "base_uri": "https://localhost:8080/"
        },
        "id": "TKPukMBHzMuN",
        "outputId": "b014d3ab-b7cf-4108-deb5-a1c1837e326d"
      },
      "execution_count": null,
      "outputs": [
        {
          "output_type": "execute_result",
          "data": {
            "text/plain": [
              "array([[False,  True, False, False],\n",
              "       [False,  True,  True,  True],\n",
              "       [ True,  True, False, False],\n",
              "       [ True, False, False, False]])"
            ]
          },
          "metadata": {},
          "execution_count": 236
        }
      ]
    },
    {
      "cell_type": "code",
      "source": [
        "# <= / >=\n",
        "array2"
      ],
      "metadata": {
        "colab": {
          "base_uri": "https://localhost:8080/"
        },
        "id": "TYNZqy8UzaDF",
        "outputId": "58f56e9f-3be3-4b5e-fc27-3931cf6de424"
      },
      "execution_count": null,
      "outputs": [
        {
          "output_type": "execute_result",
          "data": {
            "text/plain": [
              "array([[0.28043203, 0.31749901, 0.21967925, 0.6636258 ],\n",
              "       [0.06734644, 0.96870181, 0.32841055, 0.60567801],\n",
              "       [0.14291466, 0.73092618, 0.66272045, 0.91203214],\n",
              "       [0.92790241, 0.57801421, 0.30857166, 0.94265486]])"
            ]
          },
          "metadata": {},
          "execution_count": 237
        }
      ]
    },
    {
      "cell_type": "code",
      "source": [
        "array2 <=0.4"
      ],
      "metadata": {
        "colab": {
          "base_uri": "https://localhost:8080/"
        },
        "id": "NSf8OdoRzmfG",
        "outputId": "f670bb9e-dc48-4e7d-e752-cc57f2b79063"
      },
      "execution_count": null,
      "outputs": [
        {
          "output_type": "execute_result",
          "data": {
            "text/plain": [
              "array([[ True,  True,  True, False],\n",
              "       [ True, False,  True, False],\n",
              "       [ True, False, False, False],\n",
              "       [False, False,  True, False]])"
            ]
          },
          "metadata": {},
          "execution_count": 238
        }
      ]
    },
    {
      "cell_type": "markdown",
      "source": [
        "ESTADISTICAS Y FUNCIONES"
      ],
      "metadata": {
        "id": "vXLuDs2Jz06d"
      }
    },
    {
      "cell_type": "code",
      "source": [
        "array6 = np.random.random((5,5))\n",
        "array6"
      ],
      "metadata": {
        "colab": {
          "base_uri": "https://localhost:8080/"
        },
        "id": "jR5WEikCzz43",
        "outputId": "c3ab517d-93c4-4869-93c6-798c8a644061"
      },
      "execution_count": null,
      "outputs": [
        {
          "output_type": "execute_result",
          "data": {
            "text/plain": [
              "array([[0.22212586, 0.86281654, 0.45456303, 0.43554195, 0.0493364 ],\n",
              "       [0.44013869, 0.28730358, 0.92355104, 0.8421582 , 0.6612791 ],\n",
              "       [0.43646056, 0.55537306, 0.26195199, 0.07043065, 0.77284393],\n",
              "       [0.64671934, 0.47601812, 0.61215351, 0.50737336, 0.93038421],\n",
              "       [0.9127247 , 0.95458748, 0.18843794, 0.81396179, 0.00351559]])"
            ]
          },
          "metadata": {},
          "execution_count": 240
        }
      ]
    },
    {
      "cell_type": "code",
      "source": [
        "#suma de elementos\n",
        "sumatotal=array6.sum()\n",
        "print(sumatotal)"
      ],
      "metadata": {
        "colab": {
          "base_uri": "https://localhost:8080/"
        },
        "id": "U7d5wV0z0pJ3",
        "outputId": "45134064-e042-4aff-b102-4e28fc1f788c"
      },
      "execution_count": null,
      "outputs": [
        {
          "output_type": "stream",
          "name": "stdout",
          "text": [
            "13.321750625034547\n"
          ]
        }
      ]
    },
    {
      "cell_type": "code",
      "source": [
        "#valor mínimo y máximo\n",
        "array6.min()"
      ],
      "metadata": {
        "colab": {
          "base_uri": "https://localhost:8080/"
        },
        "id": "ZeZIlcB20-GH",
        "outputId": "91eea3c6-50bc-4f1d-f7ae-772ef059f0e3"
      },
      "execution_count": null,
      "outputs": [
        {
          "output_type": "execute_result",
          "data": {
            "text/plain": [
              "np.float64(0.003515591357956205)"
            ]
          },
          "metadata": {},
          "execution_count": 243
        }
      ]
    },
    {
      "cell_type": "code",
      "source": [
        "#maximo por fila o columna\n",
        "array6.max(axis=0)"
      ],
      "metadata": {
        "colab": {
          "base_uri": "https://localhost:8080/"
        },
        "id": "UjpaXaF91R3f",
        "outputId": "00078bbf-f953-47b6-ebe4-53d5bf5e836d"
      },
      "execution_count": null,
      "outputs": [
        {
          "output_type": "execute_result",
          "data": {
            "text/plain": [
              "array([0.9127247 , 0.95458748, 0.92355104, 0.8421582 , 0.93038421])"
            ]
          },
          "metadata": {},
          "execution_count": 244
        }
      ]
    },
    {
      "cell_type": "code",
      "source": [
        "#fila acumulada\n",
        "array6.cumsum(axis=1)"
      ],
      "metadata": {
        "colab": {
          "base_uri": "https://localhost:8080/"
        },
        "id": "3V_5j15N1p_e",
        "outputId": "4818b3a6-b2bb-4e17-c71c-5eb542fdca5f"
      },
      "execution_count": null,
      "outputs": [
        {
          "output_type": "execute_result",
          "data": {
            "text/plain": [
              "array([[0.22212586, 1.0849424 , 1.53950543, 1.97504738, 2.02438377],\n",
              "       [0.44013869, 0.72744227, 1.6509933 , 2.49315151, 3.1544306 ],\n",
              "       [0.43646056, 0.99183362, 1.25378562, 1.32421627, 2.0970602 ],\n",
              "       [0.64671934, 1.12273746, 1.73489097, 2.24226433, 3.17264854],\n",
              "       [0.9127247 , 1.86731218, 2.05575012, 2.86971192, 2.87322751]])"
            ]
          },
          "metadata": {},
          "execution_count": 245
        }
      ]
    },
    {
      "cell_type": "code",
      "source": [
        "#media\n",
        "np.mean(array6)"
      ],
      "metadata": {
        "colab": {
          "base_uri": "https://localhost:8080/"
        },
        "id": "XDl2eh7D13HW",
        "outputId": "04395615-083a-4b21-9aaf-9b6fd5ae4a95"
      },
      "execution_count": null,
      "outputs": [
        {
          "output_type": "execute_result",
          "data": {
            "text/plain": [
              "np.float64(0.5328700250013818)"
            ]
          },
          "metadata": {},
          "execution_count": 246
        }
      ]
    },
    {
      "cell_type": "code",
      "source": [
        "#mediana\n",
        "np.median(array6)"
      ],
      "metadata": {
        "colab": {
          "base_uri": "https://localhost:8080/"
        },
        "id": "2e4JJ_dS2DSf",
        "outputId": "c826a695-34eb-49e0-df60-48ce0d400332"
      },
      "execution_count": null,
      "outputs": [
        {
          "output_type": "execute_result",
          "data": {
            "text/plain": [
              "np.float64(0.507373362960287)"
            ]
          },
          "metadata": {},
          "execution_count": 252
        }
      ]
    },
    {
      "cell_type": "code",
      "source": [
        "#desviacion estandar\n",
        "np.std(array6)"
      ],
      "metadata": {
        "colab": {
          "base_uri": "https://localhost:8080/"
        },
        "id": "w858_Jt92P43",
        "outputId": "a07d9b5a-ea14-4adb-f8df-ff77bf2aa29b"
      },
      "execution_count": null,
      "outputs": [
        {
          "output_type": "execute_result",
          "data": {
            "text/plain": [
              "np.float64(0.2914994255863974)"
            ]
          },
          "metadata": {},
          "execution_count": 253
        }
      ]
    }
  ]
}