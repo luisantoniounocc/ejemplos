{
  "nbformat": 4,
  "nbformat_minor": 0,
  "metadata": {
    "colab": {
      "provenance": [],
      "authorship_tag": "ABX9TyNQ1LoxO+7Hq4kglGTJZuzG",
      "include_colab_link": true
    },
    "kernelspec": {
      "name": "python3",
      "display_name": "Python 3"
    },
    "language_info": {
      "name": "python"
    }
  },
  "cells": [
    {
      "cell_type": "markdown",
      "metadata": {
        "id": "view-in-github",
        "colab_type": "text"
      },
      "source": [
        "<a href=\"https://colab.research.google.com/github/luisantoniounocc/ejemplos/blob/main/EJERCIOS_B%C3%81SICOS.ipynb\" target=\"_parent\"><img src=\"https://colab.research.google.com/assets/colab-badge.svg\" alt=\"Open In Colab\"/></a>"
      ]
    },
    {
      "cell_type": "markdown",
      "source": [
        "**Numpy, librerias de ciencia de datos**"
      ],
      "metadata": {
        "id": "BZDZ5AAjuBMT"
      }
    },
    {
      "cell_type": "code",
      "source": [
        "import numpy as np\n",
        "#pip install numpy"
      ],
      "metadata": {
        "id": "VqorylW4uh3j"
      },
      "execution_count": null,
      "outputs": []
    },
    {
      "cell_type": "markdown",
      "source": [
        "ARRAY DE 1 DIMENSION"
      ],
      "metadata": {
        "id": "yoiiq6AHwtbL"
      }
    },
    {
      "cell_type": "code",
      "source": [
        "array_1d=np.array([10,20,30])\n",
        "print(array_1d)"
      ],
      "metadata": {
        "colab": {
          "base_uri": "https://localhost:8080/"
        },
        "id": "Ex-Ytaybvn4N",
        "outputId": "bb487c4d-2d91-4a04-de73-64c00a63822d"
      },
      "execution_count": null,
      "outputs": [
        {
          "output_type": "stream",
          "name": "stdout",
          "text": [
            "[10 20 30]\n"
          ]
        }
      ]
    },
    {
      "cell_type": "markdown",
      "source": [],
      "metadata": {
        "id": "H8GY2laxBYJ_"
      }
    },
    {
      "cell_type": "code",
      "source": [
        "array_1d"
      ],
      "metadata": {
        "colab": {
          "base_uri": "https://localhost:8080/"
        },
        "id": "OAf7cSAawUdD",
        "outputId": "c81c6ed5-1b35-47b1-bd89-f8eebe41efb0"
      },
      "execution_count": null,
      "outputs": [
        {
          "output_type": "execute_result",
          "data": {
            "text/plain": [
              "array([10, 20, 30])"
            ]
          },
          "metadata": {},
          "execution_count": 6
        }
      ]
    },
    {
      "cell_type": "markdown",
      "source": [
        "ARRAY DE 2 DIMENSIONES"
      ],
      "metadata": {
        "id": "xX991-DoxAeb"
      }
    },
    {
      "cell_type": "code",
      "source": [
        "array_2d=np.array([(10,20,30), (50,60,70)])\n",
        "array_2d"
      ],
      "metadata": {
        "colab": {
          "base_uri": "https://localhost:8080/"
        },
        "id": "aBSoi2ThxDyb",
        "outputId": "7eddafba-aca4-4a38-ca17-3b6730de2c0b"
      },
      "execution_count": null,
      "outputs": [
        {
          "output_type": "execute_result",
          "data": {
            "text/plain": [
              "array([[10, 20, 30],\n",
              "       [50, 60, 70]])"
            ]
          },
          "metadata": {},
          "execution_count": 7
        }
      ]
    },
    {
      "cell_type": "markdown",
      "source": [
        "ARRAY DE 3 DIMENSIONES"
      ],
      "metadata": {
        "id": "5HgXj6IDx6Za"
      }
    },
    {
      "cell_type": "code",
      "source": [
        "array_3d=np.array([(10,20,30), (40,50,60), (70,80,90,)], dtype=float)\n",
        "array_3d"
      ],
      "metadata": {
        "colab": {
          "base_uri": "https://localhost:8080/"
        },
        "id": "UPeG77d9x9Pr",
        "outputId": "a703f7b8-a2dd-4dab-8595-67b3706e7f07"
      },
      "execution_count": null,
      "outputs": [
        {
          "output_type": "execute_result",
          "data": {
            "text/plain": [
              "array([[10., 20., 30.],\n",
              "       [40., 50., 60.],\n",
              "       [70., 80., 90.]])"
            ]
          },
          "metadata": {},
          "execution_count": 10
        }
      ]
    },
    {
      "cell_type": "markdown",
      "source": [
        "ARRAY CON CEROS DE 3 FILAS Y 4 COLUMNAS"
      ],
      "metadata": {
        "id": "IvBJx5vJ4R5S"
      }
    },
    {
      "cell_type": "code",
      "source": [
        "np.zeros((3,4))"
      ],
      "metadata": {
        "colab": {
          "base_uri": "https://localhost:8080/"
        },
        "id": "qWQeUYPB4bhB",
        "outputId": "cf58ddc0-5b6b-4da0-d27a-b1b5fcf90cc3"
      },
      "execution_count": null,
      "outputs": [
        {
          "output_type": "execute_result",
          "data": {
            "text/plain": [
              "array([[0., 0., 0., 0.],\n",
              "       [0., 0., 0., 0.],\n",
              "       [0., 0., 0., 0.]])"
            ]
          },
          "metadata": {},
          "execution_count": 11
        }
      ]
    },
    {
      "cell_type": "code",
      "source": [
        "print(np.zeros((4,5)))"
      ],
      "metadata": {
        "colab": {
          "base_uri": "https://localhost:8080/"
        },
        "id": "Qdaka6ML4lKp",
        "outputId": "987bb586-644b-4f01-c4fd-389c54fc6cf8"
      },
      "execution_count": null,
      "outputs": [
        {
          "output_type": "stream",
          "name": "stdout",
          "text": [
            "[[0. 0. 0. 0. 0.]\n",
            " [0. 0. 0. 0. 0.]\n",
            " [0. 0. 0. 0. 0.]\n",
            " [0. 0. 0. 0. 0.]]\n"
          ]
        }
      ]
    },
    {
      "cell_type": "markdown",
      "source": [
        "ARRAY DE UNOS CON DOS DIMENSIONES DE 4 FILAS Y 5 COLUMNAS"
      ],
      "metadata": {
        "id": "ep9L7AeD40Eh"
      }
    },
    {
      "cell_type": "code",
      "source": [
        "np.ones((2,4,5))"
      ],
      "metadata": {
        "colab": {
          "base_uri": "https://localhost:8080/"
        },
        "id": "64z8xqrF48hy",
        "outputId": "e443f605-de00-49a9-ad37-39cb9a8a1d47"
      },
      "execution_count": null,
      "outputs": [
        {
          "output_type": "execute_result",
          "data": {
            "text/plain": [
              "array([[[1., 1., 1., 1., 1.],\n",
              "        [1., 1., 1., 1., 1.],\n",
              "        [1., 1., 1., 1., 1.],\n",
              "        [1., 1., 1., 1., 1.]],\n",
              "\n",
              "       [[1., 1., 1., 1., 1.],\n",
              "        [1., 1., 1., 1., 1.],\n",
              "        [1., 1., 1., 1., 1.],\n",
              "        [1., 1., 1., 1., 1.]]])"
            ]
          },
          "metadata": {},
          "execution_count": 13
        }
      ]
    },
    {
      "cell_type": "markdown",
      "source": [
        "ARRAYS INTERVALOS Y SALTOS"
      ],
      "metadata": {
        "id": "oCF50zaD5Vyo"
      }
    },
    {
      "cell_type": "code",
      "source": [
        "np.arange(11,30,2)"
      ],
      "metadata": {
        "colab": {
          "base_uri": "https://localhost:8080/"
        },
        "id": "RIZtt-yM71WI",
        "outputId": "be1da431-bbe3-4a1f-9843-5d61830e8cbc"
      },
      "execution_count": null,
      "outputs": [
        {
          "output_type": "execute_result",
          "data": {
            "text/plain": [
              "array([11, 13, 15, 17, 19, 21, 23, 25, 27, 29])"
            ]
          },
          "metadata": {},
          "execution_count": 27
        }
      ]
    },
    {
      "cell_type": "markdown",
      "source": [
        "INTERVALOS Y DIVISIONES"
      ],
      "metadata": {
        "id": "0gV5oBtu7_KY"
      }
    },
    {
      "cell_type": "code",
      "source": [
        "np.linspace(0,4,7)"
      ],
      "metadata": {
        "colab": {
          "base_uri": "https://localhost:8080/"
        },
        "id": "nVkq2pIm8KN4",
        "outputId": "4ae4cc23-6fcc-4338-b9bd-23eceec999cf"
      },
      "execution_count": null,
      "outputs": [
        {
          "output_type": "execute_result",
          "data": {
            "text/plain": [
              "array([0.        , 0.66666667, 1.33333333, 2.        , 2.66666667,\n",
              "       3.33333333, 4.        ])"
            ]
          },
          "metadata": {},
          "execution_count": 28
        }
      ]
    },
    {
      "cell_type": "markdown",
      "source": [
        "ARRAYS CON VALORES DADOS"
      ],
      "metadata": {
        "id": "yt3XKuqH8jJo"
      }
    },
    {
      "cell_type": "code",
      "source": [
        "np.full((3,3),7)"
      ],
      "metadata": {
        "colab": {
          "base_uri": "https://localhost:8080/"
        },
        "id": "J4vjTqUX8oNw",
        "outputId": "829bbd9b-33ca-494c-c317-c97a926bbbce"
      },
      "execution_count": null,
      "outputs": [
        {
          "output_type": "execute_result",
          "data": {
            "text/plain": [
              "array([[7, 7, 7],\n",
              "       [7, 7, 7],\n",
              "       [7, 7, 7]])"
            ]
          },
          "metadata": {},
          "execution_count": 29
        }
      ]
    },
    {
      "cell_type": "markdown",
      "source": [
        "ARRAYS CON MATRIZ IDENTIDAD, DIAGONAL DE UNOS"
      ],
      "metadata": {
        "id": "wiO2k-de87Ug"
      }
    },
    {
      "cell_type": "code",
      "source": [
        "np.eye(3)"
      ],
      "metadata": {
        "colab": {
          "base_uri": "https://localhost:8080/"
        },
        "id": "ziUkx9mF9T2o",
        "outputId": "d10ffd2c-3995-4cf4-863c-c065743f7b6c"
      },
      "execution_count": null,
      "outputs": [
        {
          "output_type": "execute_result",
          "data": {
            "text/plain": [
              "array([[1., 0., 0.],\n",
              "       [0., 1., 0.],\n",
              "       [0., 0., 1.]])"
            ]
          },
          "metadata": {},
          "execution_count": 38
        }
      ]
    },
    {
      "cell_type": "markdown",
      "source": [
        "ARRAY VALORES ALEATORIOS 0-1"
      ],
      "metadata": {
        "id": "dzt8VAWL-eZH"
      }
    },
    {
      "cell_type": "code",
      "source": [
        "np.random.random((4, 4))"
      ],
      "metadata": {
        "colab": {
          "base_uri": "https://localhost:8080/"
        },
        "id": "-vYy928Z-ivx",
        "outputId": "1bf9d355-65f7-4672-de47-7dac3ea2004d"
      },
      "execution_count": null,
      "outputs": [
        {
          "output_type": "execute_result",
          "data": {
            "text/plain": [
              "array([[0.41097086, 0.04263063, 0.58434008, 0.77564297],\n",
              "       [0.04094122, 0.81422981, 0.18379974, 0.05178374],\n",
              "       [0.02897562, 0.95489138, 0.23594815, 0.56763204],\n",
              "       [0.21359398, 0.19427076, 0.26076649, 0.39647374]])"
            ]
          },
          "metadata": {},
          "execution_count": 57
        }
      ]
    },
    {
      "cell_type": "markdown",
      "source": [
        "ARRAY DE NUMEROS VACIOS 4*3"
      ],
      "metadata": {
        "id": "7zuZCVU6_Cyn"
      }
    },
    {
      "cell_type": "code",
      "source": [
        "np.empty ((4,3))"
      ],
      "metadata": {
        "colab": {
          "base_uri": "https://localhost:8080/"
        },
        "id": "cFSuPHt6_G83",
        "outputId": "fdbc519d-abf9-469b-b76b-40eea9974371"
      },
      "execution_count": null,
      "outputs": [
        {
          "output_type": "execute_result",
          "data": {
            "text/plain": [
              "array([[0., 0., 0.],\n",
              "       [0., 0., 0.],\n",
              "       [0., 0., 0.],\n",
              "       [0., 0., 0.]])"
            ]
          },
          "metadata": {},
          "execution_count": 58
        }
      ]
    },
    {
      "cell_type": "markdown",
      "source": [
        "GRABAR Y CARGAR"
      ],
      "metadata": {
        "id": "V_L3XTu5Be1P"
      }
    },
    {
      "cell_type": "code",
      "source": [
        "#Grabar\n",
        "np.save('mi_array_3d',array_3d)"
      ],
      "metadata": {
        "id": "EHLzearJBhpY"
      },
      "execution_count": 97,
      "outputs": []
    },
    {
      "cell_type": "code",
      "source": [
        "#Cargar\n",
        "mi_array=np.load('mi_array_3d.npy')\n",
        "mi_array"
      ],
      "metadata": {
        "colab": {
          "base_uri": "https://localhost:8080/"
        },
        "id": "vA10qgrpCh2O",
        "outputId": "0f80ce36-f5bc-4bf5-ef09-cd3301bde019"
      },
      "execution_count": null,
      "outputs": [
        {
          "output_type": "execute_result",
          "data": {
            "text/plain": [
              "array([[10., 20., 30.],\n",
              "       [40., 50., 60.],\n",
              "       [70., 80., 90.]])"
            ]
          },
          "metadata": {},
          "execution_count": 87
        }
      ]
    },
    {
      "cell_type": "markdown",
      "source": [
        "GRABAR Y CARGAR DE 2D"
      ],
      "metadata": {
        "id": "aFN_J8wOEE-3"
      }
    },
    {
      "cell_type": "code",
      "source": [
        "#Grabar\n",
        "np.save('mi_array_2d',array_2d)"
      ],
      "metadata": {
        "id": "qCtlkZD-ELbY"
      },
      "execution_count": null,
      "outputs": []
    },
    {
      "cell_type": "code",
      "source": [
        "#Cargar\n",
        "mi_array=np.load('mi_array_2d.npy')\n",
        "mi_array"
      ],
      "metadata": {
        "colab": {
          "base_uri": "https://localhost:8080/"
        },
        "id": "H9CMnDz5EXWm",
        "outputId": "b69d57bd-443b-439a-e424-185afe56b1d7"
      },
      "execution_count": null,
      "outputs": [
        {
          "output_type": "execute_result",
          "data": {
            "text/plain": [
              "array([[10, 20, 30],\n",
              "       [50, 60, 70]])"
            ]
          },
          "metadata": {},
          "execution_count": 89
        }
      ]
    },
    {
      "cell_type": "markdown",
      "source": [
        "GRABAR Y CARGAR FICHEROS DE TEXTO"
      ],
      "metadata": {
        "id": "Xy9cF7CHE1sN"
      }
    },
    {
      "cell_type": "code",
      "source": [
        "#grabar de fichero de texto\n",
        "np.savetxt('mi_array.txt', array_2d, delimiter=\" \")"
      ],
      "metadata": {
        "id": "dhgShtoQE7RI"
      },
      "execution_count": null,
      "outputs": []
    },
    {
      "cell_type": "code",
      "source": [
        "#cargar de fichero de texto\n",
        "np.loadtxt('mi_array.txt')"
      ],
      "metadata": {
        "colab": {
          "base_uri": "https://localhost:8080/"
        },
        "id": "x6VGIokzGLC9",
        "outputId": "2e1f8826-48ae-401c-fba2-f999d943218f"
      },
      "execution_count": null,
      "outputs": [
        {
          "output_type": "execute_result",
          "data": {
            "text/plain": [
              "array([[10., 20., 30.],\n",
              "       [50., 60., 70.]])"
            ]
          },
          "metadata": {},
          "execution_count": 85
        }
      ]
    },
    {
      "cell_type": "markdown",
      "source": [
        "EJERCICIO_01"
      ],
      "metadata": {
        "id": "wU--sH4qOfPu"
      }
    },
    {
      "cell_type": "code",
      "source": [
        "# Escribir un programa que almacene las asignaturas de un curso (por ejemplo Matemáticas, Física, Química, Historia y Lengua) en una lista y la muestre por pantalla.\n",
        "\n",
        "asignaturas = [\"Matemáticas\", \"Física\", \"Química\", \"Historia\", \"Lengua\"]\n",
        "asignaturas\n",
        "np.save(\"ejercicios_practicos/ejercicio01\", asignaturas)\n"
      ],
      "metadata": {
        "id": "LJD3LxdtT9zr"
      },
      "execution_count": 157,
      "outputs": []
    },
    {
      "cell_type": "code",
      "source": [
        "np.load(\"ejercicios_practicos/ejercicio01.npy\")"
      ],
      "metadata": {
        "colab": {
          "base_uri": "https://localhost:8080/"
        },
        "id": "oImH2moSUsBw",
        "outputId": "f8d8e160-e897-4c9f-d0b5-160675460a60"
      },
      "execution_count": 158,
      "outputs": [
        {
          "output_type": "execute_result",
          "data": {
            "text/plain": [
              "array(['Matemáticas', 'Física', 'Química', 'Historia', 'Lengua'],\n",
              "      dtype='<U11')"
            ]
          },
          "metadata": {},
          "execution_count": 158
        }
      ]
    },
    {
      "cell_type": "markdown",
      "source": [
        "EJERCICIO_02"
      ],
      "metadata": {
        "id": "xiCdeLS_Pfcr"
      }
    },
    {
      "cell_type": "code",
      "source": [
        "asignaturas = [\"Matemáticas\", \"Física\", \"Química\", \"Historia\", \"Lengua\"]\n",
        "np.save(\"ejercicios_practicos/ejercicio02\", asignaturas)"
      ],
      "metadata": {
        "id": "THEYRcN9Phfl"
      },
      "execution_count": 183,
      "outputs": []
    },
    {
      "cell_type": "code",
      "source": [
        "asignaturas = np.load(\"ejercicios_practicos/ejercicio02.npy\", allow_pickle=True)\n",
        "\n",
        "for asignatura in asignaturas:\n",
        "    print(\"Yo estudio\", asignatura)"
      ],
      "metadata": {
        "colab": {
          "base_uri": "https://localhost:8080/"
        },
        "id": "uy4T5EfMWCPa",
        "outputId": "888e045a-7d39-454b-9cc0-b6f05ff44934"
      },
      "execution_count": 185,
      "outputs": [
        {
          "output_type": "stream",
          "name": "stdout",
          "text": [
            "Yo estudio Matemáticas\n",
            "Yo estudio Física\n",
            "Yo estudio Química\n",
            "Yo estudio Historia\n",
            "Yo estudio Lengua\n"
          ]
        }
      ]
    },
    {
      "cell_type": "markdown",
      "source": [
        "EJERCICIO_03"
      ],
      "metadata": {
        "id": "tN2oRF3UZDvC"
      }
    },
    {
      "cell_type": "code",
      "source": [
        "asignaturas = [\"Matemáticas\", \"Física\", \"Química\", \"Historia\", \"Lengua\"]\n",
        "notas = []\n",
        "\n",
        "for asignatura in asignaturas:\n",
        "    nota = input(f\"Introduce la nota de {asignatura}: \")\n",
        "    notas.append(nota)\n",
        "\n",
        "datos = (asignaturas, notas)\n",
        "np.save(\"ejercicios_practicos/ejercicio03\", datos)\n"
      ],
      "metadata": {
        "colab": {
          "base_uri": "https://localhost:8080/"
        },
        "id": "B4Drzg16Za14",
        "outputId": "f8bd9a96-bafd-46e7-b91e-49eb05d8a1c8"
      },
      "execution_count": 192,
      "outputs": [
        {
          "name": "stdout",
          "output_type": "stream",
          "text": [
            "Introduce la nota de Matemáticas: 44\n",
            "Introduce la nota de Física: 5\n",
            "Introduce la nota de Química: 6\n",
            "Introduce la nota de Historia: 7\n",
            "Introduce la nota de Lengua: 8\n"
          ]
        }
      ]
    },
    {
      "cell_type": "code",
      "source": [
        "asignaturas, notas = np.load(\"ejercicios_practicos/ejercicio03.npy\", allow_pickle=True)\n",
        "\n",
        "for asignatura, nota in zip(asignaturas, notas):\n",
        "    print(f\"En {asignatura} has sacado {nota}\")\n"
      ],
      "metadata": {
        "colab": {
          "base_uri": "https://localhost:8080/"
        },
        "id": "tD_Ykz29Z_wZ",
        "outputId": "9a805068-e23b-45be-c1ba-24d6b99e551b"
      },
      "execution_count": 193,
      "outputs": [
        {
          "output_type": "stream",
          "name": "stdout",
          "text": [
            "En Matemáticas has sacado 44\n",
            "En Física has sacado 5\n",
            "En Química has sacado 6\n",
            "En Historia has sacado 7\n",
            "En Lengua has sacado 8\n"
          ]
        }
      ]
    },
    {
      "cell_type": "markdown",
      "source": [
        "EJERCICIO_04"
      ],
      "metadata": {
        "id": "E4p9rJvIaqiQ"
      }
    },
    {
      "cell_type": "code",
      "source": [
        "numeros = []\n",
        "\n",
        "for i in range(6):\n",
        "    num = int(input(f\"Introduce el número ganador {i+1}: \"))\n",
        "    numeros.append(num)\n",
        "\n",
        "numeros.sort()\n",
        "\n",
        "np.save(\"ejercicios_practicos/ejercicio04\", numeros)"
      ],
      "metadata": {
        "colab": {
          "base_uri": "https://localhost:8080/"
        },
        "id": "aYxGPlj4auKQ",
        "outputId": "41213ca6-7590-4f78-da92-6be5a73c68ff"
      },
      "execution_count": 195,
      "outputs": [
        {
          "name": "stdout",
          "output_type": "stream",
          "text": [
            "Introduce el número ganador 1: 5\n",
            "Introduce el número ganador 2: 9\n",
            "Introduce el número ganador 3: 8\n",
            "Introduce el número ganador 4: 6\n",
            "Introduce el número ganador 5: 1\n",
            "Introduce el número ganador 6: 5\n"
          ]
        }
      ]
    },
    {
      "cell_type": "code",
      "source": [
        "numeros = np.load(\"ejercicios_practicos/ejercicio04.npy\")\n",
        "\n",
        "print(\"Números ganadores ordenados:\")\n",
        "for numero in numeros:\n",
        "    print(numero)\n"
      ],
      "metadata": {
        "colab": {
          "base_uri": "https://localhost:8080/"
        },
        "id": "zoEig9R0bTDR",
        "outputId": "c80c1208-8521-48a1-bd21-abf6f4660920"
      },
      "execution_count": 196,
      "outputs": [
        {
          "output_type": "stream",
          "name": "stdout",
          "text": [
            "Números ganadores ordenados:\n",
            "1\n",
            "5\n",
            "5\n",
            "6\n",
            "8\n",
            "9\n"
          ]
        }
      ]
    }
  ]
}