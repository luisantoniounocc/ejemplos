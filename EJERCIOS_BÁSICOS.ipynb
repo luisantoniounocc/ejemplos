{
  "nbformat": 4,
  "nbformat_minor": 0,
  "metadata": {
    "colab": {
      "provenance": [],
      "authorship_tag": "ABX9TyO9ziy2k2lfwCnyiiv9d4Ee",
      "include_colab_link": true
    },
    "kernelspec": {
      "name": "python3",
      "display_name": "Python 3"
    },
    "language_info": {
      "name": "python"
    }
  },
  "cells": [
    {
      "cell_type": "markdown",
      "metadata": {
        "id": "view-in-github",
        "colab_type": "text"
      },
      "source": [
        "<a href=\"https://colab.research.google.com/github/luisantoniounocc/ejemplos/blob/main/EJERCIOS_B%C3%81SICOS.ipynb\" target=\"_parent\"><img src=\"https://colab.research.google.com/assets/colab-badge.svg\" alt=\"Open In Colab\"/></a>"
      ]
    },
    {
      "cell_type": "markdown",
      "source": [
        "**Numpy, librerias de ciencia de datos**"
      ],
      "metadata": {
        "id": "BZDZ5AAjuBMT"
      }
    },
    {
      "cell_type": "code",
      "source": [
        "import numpy as np\n",
        "#pip install numpy"
      ],
      "metadata": {
        "id": "VqorylW4uh3j"
      },
      "execution_count": 14,
      "outputs": []
    },
    {
      "cell_type": "markdown",
      "source": [
        "ARRAY DE 1 DIMENSION"
      ],
      "metadata": {
        "id": "yoiiq6AHwtbL"
      }
    },
    {
      "cell_type": "code",
      "source": [
        "array_1d=np.array([10,20,30])\n",
        "print(array_1d)"
      ],
      "metadata": {
        "colab": {
          "base_uri": "https://localhost:8080/"
        },
        "id": "Ex-Ytaybvn4N",
        "outputId": "831dca77-f69f-42af-da4e-5760fe911acb"
      },
      "execution_count": 16,
      "outputs": [
        {
          "output_type": "stream",
          "name": "stdout",
          "text": [
            "[10 20 30]\n"
          ]
        }
      ]
    },
    {
      "cell_type": "markdown",
      "source": [],
      "metadata": {
        "id": "H8GY2laxBYJ_"
      }
    },
    {
      "cell_type": "code",
      "source": [
        "array_1d"
      ],
      "metadata": {
        "colab": {
          "base_uri": "https://localhost:8080/"
        },
        "id": "OAf7cSAawUdD",
        "outputId": "8df5c957-6af5-45aa-866c-a5dd7b94f379"
      },
      "execution_count": 17,
      "outputs": [
        {
          "output_type": "execute_result",
          "data": {
            "text/plain": [
              "array([10, 20, 30])"
            ]
          },
          "metadata": {},
          "execution_count": 17
        }
      ]
    },
    {
      "cell_type": "markdown",
      "source": [
        "ARRAY DE 2 DIMENSIONES"
      ],
      "metadata": {
        "id": "xX991-DoxAeb"
      }
    },
    {
      "cell_type": "code",
      "source": [
        "array_2d=np.array([(10,20,30), (50,60,70)])\n",
        "array_2d"
      ],
      "metadata": {
        "colab": {
          "base_uri": "https://localhost:8080/"
        },
        "id": "aBSoi2ThxDyb",
        "outputId": "fc0c5e76-f0d6-4af3-ffb7-26c497d17be1"
      },
      "execution_count": 18,
      "outputs": [
        {
          "output_type": "execute_result",
          "data": {
            "text/plain": [
              "array([[10, 20, 30],\n",
              "       [50, 60, 70]])"
            ]
          },
          "metadata": {},
          "execution_count": 18
        }
      ]
    },
    {
      "cell_type": "markdown",
      "source": [
        "ARRAY DE 3 DIMENSIONES"
      ],
      "metadata": {
        "id": "5HgXj6IDx6Za"
      }
    },
    {
      "cell_type": "code",
      "source": [
        "array_3d=np.array([(10,20,30), (40,50,60), (70,80,90,)], dtype=float)\n",
        "array_3d"
      ],
      "metadata": {
        "colab": {
          "base_uri": "https://localhost:8080/"
        },
        "id": "UPeG77d9x9Pr",
        "outputId": "64ed1329-7a29-4638-89a2-ae8eccc6927b"
      },
      "execution_count": 19,
      "outputs": [
        {
          "output_type": "execute_result",
          "data": {
            "text/plain": [
              "array([[10., 20., 30.],\n",
              "       [40., 50., 60.],\n",
              "       [70., 80., 90.]])"
            ]
          },
          "metadata": {},
          "execution_count": 19
        }
      ]
    },
    {
      "cell_type": "markdown",
      "source": [
        "ARRAY CON CEROS DE 3 FILAS Y 4 COLUMNAS"
      ],
      "metadata": {
        "id": "IvBJx5vJ4R5S"
      }
    },
    {
      "cell_type": "code",
      "source": [
        "np.zeros((3,4))"
      ],
      "metadata": {
        "colab": {
          "base_uri": "https://localhost:8080/"
        },
        "id": "qWQeUYPB4bhB",
        "outputId": "cf58ddc0-5b6b-4da0-d27a-b1b5fcf90cc3"
      },
      "execution_count": null,
      "outputs": [
        {
          "output_type": "execute_result",
          "data": {
            "text/plain": [
              "array([[0., 0., 0., 0.],\n",
              "       [0., 0., 0., 0.],\n",
              "       [0., 0., 0., 0.]])"
            ]
          },
          "metadata": {},
          "execution_count": 11
        }
      ]
    },
    {
      "cell_type": "code",
      "source": [
        "print(np.zeros((4,5)))"
      ],
      "metadata": {
        "colab": {
          "base_uri": "https://localhost:8080/"
        },
        "id": "Qdaka6ML4lKp",
        "outputId": "987bb586-644b-4f01-c4fd-389c54fc6cf8"
      },
      "execution_count": null,
      "outputs": [
        {
          "output_type": "stream",
          "name": "stdout",
          "text": [
            "[[0. 0. 0. 0. 0.]\n",
            " [0. 0. 0. 0. 0.]\n",
            " [0. 0. 0. 0. 0.]\n",
            " [0. 0. 0. 0. 0.]]\n"
          ]
        }
      ]
    },
    {
      "cell_type": "markdown",
      "source": [
        "ARRAY DE UNOS CON DOS DIMENSIONES DE 4 FILAS Y 5 COLUMNAS"
      ],
      "metadata": {
        "id": "ep9L7AeD40Eh"
      }
    },
    {
      "cell_type": "code",
      "source": [
        "np.ones((2,4,5))"
      ],
      "metadata": {
        "colab": {
          "base_uri": "https://localhost:8080/"
        },
        "id": "64z8xqrF48hy",
        "outputId": "e443f605-de00-49a9-ad37-39cb9a8a1d47"
      },
      "execution_count": null,
      "outputs": [
        {
          "output_type": "execute_result",
          "data": {
            "text/plain": [
              "array([[[1., 1., 1., 1., 1.],\n",
              "        [1., 1., 1., 1., 1.],\n",
              "        [1., 1., 1., 1., 1.],\n",
              "        [1., 1., 1., 1., 1.]],\n",
              "\n",
              "       [[1., 1., 1., 1., 1.],\n",
              "        [1., 1., 1., 1., 1.],\n",
              "        [1., 1., 1., 1., 1.],\n",
              "        [1., 1., 1., 1., 1.]]])"
            ]
          },
          "metadata": {},
          "execution_count": 13
        }
      ]
    },
    {
      "cell_type": "markdown",
      "source": [
        "ARRAYS INTERVALOS Y SALTOS"
      ],
      "metadata": {
        "id": "oCF50zaD5Vyo"
      }
    },
    {
      "cell_type": "code",
      "source": [
        "np.arange(11,30,2)"
      ],
      "metadata": {
        "colab": {
          "base_uri": "https://localhost:8080/"
        },
        "id": "RIZtt-yM71WI",
        "outputId": "be1da431-bbe3-4a1f-9843-5d61830e8cbc"
      },
      "execution_count": null,
      "outputs": [
        {
          "output_type": "execute_result",
          "data": {
            "text/plain": [
              "array([11, 13, 15, 17, 19, 21, 23, 25, 27, 29])"
            ]
          },
          "metadata": {},
          "execution_count": 27
        }
      ]
    },
    {
      "cell_type": "markdown",
      "source": [
        "INTERVALOS Y DIVISIONES"
      ],
      "metadata": {
        "id": "0gV5oBtu7_KY"
      }
    },
    {
      "cell_type": "code",
      "source": [
        "np.linspace(0,4,7)"
      ],
      "metadata": {
        "colab": {
          "base_uri": "https://localhost:8080/"
        },
        "id": "nVkq2pIm8KN4",
        "outputId": "4ae4cc23-6fcc-4338-b9bd-23eceec999cf"
      },
      "execution_count": null,
      "outputs": [
        {
          "output_type": "execute_result",
          "data": {
            "text/plain": [
              "array([0.        , 0.66666667, 1.33333333, 2.        , 2.66666667,\n",
              "       3.33333333, 4.        ])"
            ]
          },
          "metadata": {},
          "execution_count": 28
        }
      ]
    },
    {
      "cell_type": "markdown",
      "source": [
        "ARRAYS CON VALORES DADOS"
      ],
      "metadata": {
        "id": "yt3XKuqH8jJo"
      }
    },
    {
      "cell_type": "code",
      "source": [
        "np.full((3,3),7)"
      ],
      "metadata": {
        "colab": {
          "base_uri": "https://localhost:8080/"
        },
        "id": "J4vjTqUX8oNw",
        "outputId": "829bbd9b-33ca-494c-c317-c97a926bbbce"
      },
      "execution_count": null,
      "outputs": [
        {
          "output_type": "execute_result",
          "data": {
            "text/plain": [
              "array([[7, 7, 7],\n",
              "       [7, 7, 7],\n",
              "       [7, 7, 7]])"
            ]
          },
          "metadata": {},
          "execution_count": 29
        }
      ]
    },
    {
      "cell_type": "markdown",
      "source": [
        "ARRAYS CON MATRIZ IDENTIDAD, DIAGONAL DE UNOS"
      ],
      "metadata": {
        "id": "wiO2k-de87Ug"
      }
    },
    {
      "cell_type": "code",
      "source": [
        "np.eye(3)"
      ],
      "metadata": {
        "colab": {
          "base_uri": "https://localhost:8080/"
        },
        "id": "ziUkx9mF9T2o",
        "outputId": "d10ffd2c-3995-4cf4-863c-c065743f7b6c"
      },
      "execution_count": null,
      "outputs": [
        {
          "output_type": "execute_result",
          "data": {
            "text/plain": [
              "array([[1., 0., 0.],\n",
              "       [0., 1., 0.],\n",
              "       [0., 0., 1.]])"
            ]
          },
          "metadata": {},
          "execution_count": 38
        }
      ]
    },
    {
      "cell_type": "markdown",
      "source": [
        "ARRAY VALORES ALEATORIOS 0-1"
      ],
      "metadata": {
        "id": "dzt8VAWL-eZH"
      }
    },
    {
      "cell_type": "code",
      "source": [
        "np.random.random((4, 4))"
      ],
      "metadata": {
        "colab": {
          "base_uri": "https://localhost:8080/"
        },
        "id": "-vYy928Z-ivx",
        "outputId": "ce60426d-758f-4e4b-869e-47b6f4203579"
      },
      "execution_count": 51,
      "outputs": [
        {
          "output_type": "execute_result",
          "data": {
            "text/plain": [
              "array([[0.67602328, 0.04142617, 0.10803977, 0.38147786],\n",
              "       [0.54456022, 0.50726086, 0.81406326, 0.75718097],\n",
              "       [0.11372309, 0.24478743, 0.49149902, 0.61379207],\n",
              "       [0.27583075, 0.71220821, 0.98313555, 0.91831404]])"
            ]
          },
          "metadata": {},
          "execution_count": 51
        }
      ]
    },
    {
      "cell_type": "markdown",
      "source": [
        "ARRAY DE NUMEROS VACIOS 4*3"
      ],
      "metadata": {
        "id": "7zuZCVU6_Cyn"
      }
    },
    {
      "cell_type": "code",
      "source": [
        "np.empty ((4,3))"
      ],
      "metadata": {
        "colab": {
          "base_uri": "https://localhost:8080/"
        },
        "id": "cFSuPHt6_G83",
        "outputId": "fdbc519d-abf9-469b-b76b-40eea9974371"
      },
      "execution_count": null,
      "outputs": [
        {
          "output_type": "execute_result",
          "data": {
            "text/plain": [
              "array([[0., 0., 0.],\n",
              "       [0., 0., 0.],\n",
              "       [0., 0., 0.],\n",
              "       [0., 0., 0.]])"
            ]
          },
          "metadata": {},
          "execution_count": 58
        }
      ]
    },
    {
      "cell_type": "markdown",
      "source": [
        "GRABAR Y CARGAR"
      ],
      "metadata": {
        "id": "V_L3XTu5Be1P"
      }
    },
    {
      "cell_type": "code",
      "source": [
        "#Grabar\n",
        "np.save('mi_array_3d',array_3d)"
      ],
      "metadata": {
        "id": "EHLzearJBhpY"
      },
      "execution_count": 34,
      "outputs": []
    },
    {
      "cell_type": "code",
      "source": [
        "#Cargar\n",
        "mi_array=np.load('mi_array_3d.npy')\n",
        "mi_array"
      ],
      "metadata": {
        "colab": {
          "base_uri": "https://localhost:8080/"
        },
        "id": "vA10qgrpCh2O",
        "outputId": "d6119991-bdc7-45ba-b240-869a4ceb583c"
      },
      "execution_count": 35,
      "outputs": [
        {
          "output_type": "execute_result",
          "data": {
            "text/plain": [
              "array([[10., 20., 30.],\n",
              "       [40., 50., 60.],\n",
              "       [70., 80., 90.]])"
            ]
          },
          "metadata": {},
          "execution_count": 35
        }
      ]
    },
    {
      "cell_type": "markdown",
      "source": [
        "GRABAR Y CARGAR DE 2D"
      ],
      "metadata": {
        "id": "aFN_J8wOEE-3"
      }
    },
    {
      "cell_type": "code",
      "source": [
        "#Grabar\n",
        "np.save('mi_array_2d',array_2d)"
      ],
      "metadata": {
        "id": "qCtlkZD-ELbY"
      },
      "execution_count": 29,
      "outputs": []
    },
    {
      "cell_type": "code",
      "source": [
        "#Cargar\n",
        "mi_array=np.load('mi_array_2d.npy')\n",
        "mi_array"
      ],
      "metadata": {
        "colab": {
          "base_uri": "https://localhost:8080/"
        },
        "id": "H9CMnDz5EXWm",
        "outputId": "92b0f8f9-e059-40d9-c115-a16bfff60595"
      },
      "execution_count": 30,
      "outputs": [
        {
          "output_type": "execute_result",
          "data": {
            "text/plain": [
              "array([[10, 20, 30],\n",
              "       [50, 60, 70]])"
            ]
          },
          "metadata": {},
          "execution_count": 30
        }
      ]
    },
    {
      "cell_type": "markdown",
      "source": [
        "GRABAR Y CARGAR FICHEROS DE TEXTO"
      ],
      "metadata": {
        "id": "Xy9cF7CHE1sN"
      }
    },
    {
      "cell_type": "code",
      "source": [
        "#grabar de fichero de texto\n",
        "np.savetxt('mi_array.txt', array_2d, delimiter=\" \")"
      ],
      "metadata": {
        "id": "dhgShtoQE7RI"
      },
      "execution_count": 27,
      "outputs": []
    },
    {
      "cell_type": "code",
      "source": [
        "#cargar de fichero de texto\n",
        "np.loadtxt('mi_array.txt')"
      ],
      "metadata": {
        "colab": {
          "base_uri": "https://localhost:8080/"
        },
        "id": "x6VGIokzGLC9",
        "outputId": "71e7e32f-7d83-4d89-c76c-767bdb66cc74"
      },
      "execution_count": 28,
      "outputs": [
        {
          "output_type": "execute_result",
          "data": {
            "text/plain": [
              "array([[10., 20., 30.],\n",
              "       [50., 60., 70.]])"
            ]
          },
          "metadata": {},
          "execution_count": 28
        }
      ]
    },
    {
      "cell_type": "markdown",
      "source": [
        "EJERCICIO_01"
      ],
      "metadata": {
        "id": "wU--sH4qOfPu"
      }
    },
    {
      "cell_type": "code",
      "source": [
        "# Escribir un programa que almacene las asignaturas de un curso (por ejemplo Matemáticas, Física, Química, Historia y Lengua) en una lista y la muestre por pantalla.\n",
        "\n",
        "asignaturas = [\"Matemáticas\", \"Física\", \"Química\", \"Historia\", \"Lengua\"]\n",
        "asignaturas\n",
        "np.save(\"ejercicios_practicos/ejercicio01\", asignaturas)\n"
      ],
      "metadata": {
        "id": "LJD3LxdtT9zr"
      },
      "execution_count": 41,
      "outputs": []
    },
    {
      "cell_type": "code",
      "source": [
        "np.load(\"ejercicios_practicos/ejercicio01.npy\")"
      ],
      "metadata": {
        "colab": {
          "base_uri": "https://localhost:8080/"
        },
        "id": "oImH2moSUsBw",
        "outputId": "27e8687c-5155-45dc-fab5-4473fd34523c"
      },
      "execution_count": 40,
      "outputs": [
        {
          "output_type": "execute_result",
          "data": {
            "text/plain": [
              "array(['Matemáticas', 'Física', 'Química', 'Historia', 'Lengua'],\n",
              "      dtype='<U11')"
            ]
          },
          "metadata": {},
          "execution_count": 40
        }
      ]
    },
    {
      "cell_type": "markdown",
      "source": [
        "EJERCICIO_02"
      ],
      "metadata": {
        "id": "xiCdeLS_Pfcr"
      }
    },
    {
      "cell_type": "code",
      "source": [
        "asignaturas = [\"Matemáticas\", \"Física\", \"Química\", \"Historia\", \"Lengua\"]\n",
        "np.save(\"ejercicios_practicos/ejercicio02\", asignaturas)"
      ],
      "metadata": {
        "id": "THEYRcN9Phfl"
      },
      "execution_count": 42,
      "outputs": []
    },
    {
      "cell_type": "code",
      "source": [
        "asignaturas = np.load(\"ejercicios_practicos/ejercicio02.npy\", allow_pickle=True)\n",
        "\n",
        "for asignatura in asignaturas:\n",
        "    print(\"Yo estudio\", asignatura)"
      ],
      "metadata": {
        "colab": {
          "base_uri": "https://localhost:8080/"
        },
        "id": "uy4T5EfMWCPa",
        "outputId": "5101f056-2850-47a8-aca8-1fb944dba208"
      },
      "execution_count": 43,
      "outputs": [
        {
          "output_type": "stream",
          "name": "stdout",
          "text": [
            "Yo estudio Matemáticas\n",
            "Yo estudio Física\n",
            "Yo estudio Química\n",
            "Yo estudio Historia\n",
            "Yo estudio Lengua\n"
          ]
        }
      ]
    },
    {
      "cell_type": "markdown",
      "source": [
        "EJERCICIO_03"
      ],
      "metadata": {
        "id": "tN2oRF3UZDvC"
      }
    },
    {
      "cell_type": "code",
      "source": [
        "asignaturas = [\"Matemáticas\", \"Física\", \"Química\", \"Historia\", \"Lengua\"]\n",
        "notas = []\n",
        "\n",
        "for asignatura in asignaturas:\n",
        "    nota = input(f\"Introduce la nota de {asignatura}: \")\n",
        "    notas.append(nota)\n",
        "\n",
        "datos = (asignaturas, notas)\n",
        "np.save(\"ejercicios_practicos/ejercicio03\", datos)\n"
      ],
      "metadata": {
        "colab": {
          "base_uri": "https://localhost:8080/"
        },
        "id": "B4Drzg16Za14",
        "outputId": "48f15166-1f88-4252-9179-aa944ca266d0"
      },
      "execution_count": 46,
      "outputs": [
        {
          "name": "stdout",
          "output_type": "stream",
          "text": [
            "Introduce la nota de Matemáticas: 8\n",
            "Introduce la nota de Física: 5\n",
            "Introduce la nota de Química: 7\n",
            "Introduce la nota de Historia: 2\n",
            "Introduce la nota de Lengua: 6\n"
          ]
        }
      ]
    },
    {
      "cell_type": "code",
      "source": [
        "asignaturas, notas = np.load(\"ejercicios_practicos/ejercicio03.npy\", allow_pickle=True)\n",
        "\n",
        "for asignatura, nota in zip(asignaturas, notas):\n",
        "    print(f\"En {asignatura} has sacado {nota}\")\n"
      ],
      "metadata": {
        "colab": {
          "base_uri": "https://localhost:8080/"
        },
        "id": "tD_Ykz29Z_wZ",
        "outputId": "4054e65a-78b1-4e65-9623-2d15f3ff68fc"
      },
      "execution_count": 47,
      "outputs": [
        {
          "output_type": "stream",
          "name": "stdout",
          "text": [
            "En Matemáticas has sacado 8\n",
            "En Física has sacado 5\n",
            "En Química has sacado 7\n",
            "En Historia has sacado 2\n",
            "En Lengua has sacado 6\n"
          ]
        }
      ]
    },
    {
      "cell_type": "markdown",
      "source": [
        "EJERCICIO_04"
      ],
      "metadata": {
        "id": "E4p9rJvIaqiQ"
      }
    },
    {
      "cell_type": "code",
      "source": [
        "numeros = []\n",
        "\n",
        "for i in range(6):\n",
        "    num = int(input(f\"Introduce el número ganador {i+1}: \"))\n",
        "    numeros.append(num)\n",
        "\n",
        "numeros.sort()\n",
        "\n",
        "np.save(\"ejercicios_practicos/ejercicio04\", numeros)"
      ],
      "metadata": {
        "colab": {
          "base_uri": "https://localhost:8080/"
        },
        "id": "aYxGPlj4auKQ",
        "outputId": "f7f5caa8-00da-4015-9420-785541615432"
      },
      "execution_count": 54,
      "outputs": [
        {
          "name": "stdout",
          "output_type": "stream",
          "text": [
            "Introduce el número ganador 1: 1\n",
            "Introduce el número ganador 2: 3\n",
            "Introduce el número ganador 3: 4\n",
            "Introduce el número ganador 4: 3\n",
            "Introduce el número ganador 5: 0\n",
            "Introduce el número ganador 6: 1\n"
          ]
        }
      ]
    },
    {
      "cell_type": "code",
      "source": [
        "numeros = np.load(\"ejercicios_practicos/ejercicio04.npy\")\n",
        "\n",
        "print(\"Números ganadores ordenados:\")\n",
        "for numero in numeros:\n",
        "    print(numero)\n"
      ],
      "metadata": {
        "colab": {
          "base_uri": "https://localhost:8080/"
        },
        "id": "zoEig9R0bTDR",
        "outputId": "6bff0e97-f49c-468d-97e3-6dd5d6145413"
      },
      "execution_count": 55,
      "outputs": [
        {
          "output_type": "stream",
          "name": "stdout",
          "text": [
            "Números ganadores ordenados:\n",
            "0\n",
            "1\n",
            "1\n",
            "3\n",
            "3\n",
            "4\n"
          ]
        }
      ]
    },
    {
      "cell_type": "markdown",
      "source": [
        "EJERCICIO_05"
      ],
      "metadata": {
        "id": "_ba4RlTlWfwY"
      }
    },
    {
      "cell_type": "code",
      "source": [
        "import numpy as np\n",
        "\n",
        "numeros = np.arange(1, 11)\n",
        "np.savetxt('ejercicios_practicos/ejercicio05.npy', numeros, fmt='%d')\n",
        "print(\"Números grabados correctamente.\")\n"
      ],
      "metadata": {
        "colab": {
          "base_uri": "https://localhost:8080/"
        },
        "id": "wiYgSygFY1OK",
        "outputId": "70a684c5-f5f5-4bd2-f350-23ecc3119bac"
      },
      "execution_count": 62,
      "outputs": [
        {
          "output_type": "stream",
          "name": "stdout",
          "text": [
            "Números grabados correctamente.\n"
          ]
        }
      ]
    },
    {
      "cell_type": "code",
      "source": [
        "import numpy as np\n",
        "n = np.loadtxt('ejercicios_practicos/ejercicio05', dtype=int)[::-1]\n",
        "print(', '.join(map(str, n)))\n"
      ],
      "metadata": {
        "colab": {
          "base_uri": "https://localhost:8080/"
        },
        "id": "pamV1IUXZIVK",
        "outputId": "95853938-358c-40fd-b2db-49b0c7469b67"
      },
      "execution_count": 63,
      "outputs": [
        {
          "output_type": "stream",
          "name": "stdout",
          "text": [
            "10, 9, 8, 7, 6, 5, 4, 3, 2, 1\n"
          ]
        }
      ]
    },
    {
      "cell_type": "markdown",
      "source": [
        "EJERCICIO_06"
      ],
      "metadata": {
        "id": "Ey3RVrAmaaa3"
      }
    },
    {
      "cell_type": "code",
      "source": [
        "\n",
        "\n",
        "a = ['Matemáticas', 'Física', 'Química', 'Historia', 'Lengua']\n",
        "n = [float(input(f\"{x}: \")) for x in a]\n",
        "np.save('ejercicios_practicos/ejercicio06.npy', [a, n])\n"
      ],
      "metadata": {
        "colab": {
          "base_uri": "https://localhost:8080/"
        },
        "id": "ChVtKjOeadz3",
        "outputId": "e0bb35f7-b66f-4385-c002-964d51b0be70"
      },
      "execution_count": 85,
      "outputs": [
        {
          "name": "stdout",
          "output_type": "stream",
          "text": [
            "Matemáticas: 12\n",
            "Física: 12\n",
            "Química: 14\n",
            "Historia: 8\n",
            "Lengua: 8\n"
          ]
        }
      ]
    },
    {
      "cell_type": "code",
      "source": [
        "\n",
        "a, n = np.load('ejercicios_practicos/ejercicio06.npy', allow_pickle=True)\n",
        "r = [x for x, y in zip(a, n) if float(y) < 10]\n",
        "print(\"Tienes que repetir:\", ', '.join(r))\n"
      ],
      "metadata": {
        "colab": {
          "base_uri": "https://localhost:8080/"
        },
        "id": "VsSd7_UHa2Vr",
        "outputId": "6d5fa3a1-a944-4953-f1dc-5be01a0d4575"
      },
      "execution_count": 87,
      "outputs": [
        {
          "output_type": "stream",
          "name": "stdout",
          "text": [
            "Tienes que repetir: Historia, Lengua\n"
          ]
        }
      ]
    },
    {
      "cell_type": "markdown",
      "source": [
        "EJERCICIO_07\n"
      ],
      "metadata": {
        "id": "COaiEpBMehNd"
      }
    },
    {
      "cell_type": "code",
      "source": [
        "import numpy as np\n",
        "import string\n",
        "l = list(string.ascii_lowercase)\n",
        "r = [x for i, x in enumerate(l, 1) if i % 3 != 0]\n",
        "np.save('ejercicios_practicos/ejercicio07.npy', r)\n",
        "\n"
      ],
      "metadata": {
        "id": "qicnfPgNejhs"
      },
      "execution_count": 90,
      "outputs": []
    },
    {
      "cell_type": "code",
      "source": [
        "\n",
        "import numpy as np\n",
        "l = np.load('ejercicios_practicos/ejercicio07.npy', allow_pickle=True)\n",
        "print(list(l))\n"
      ],
      "metadata": {
        "colab": {
          "base_uri": "https://localhost:8080/"
        },
        "id": "iTzxeRj_el2s",
        "outputId": "1df6d3fc-3628-4b20-c3cc-b20a3a9a930e"
      },
      "execution_count": 92,
      "outputs": [
        {
          "output_type": "stream",
          "name": "stdout",
          "text": [
            "[np.str_('a'), np.str_('b'), np.str_('d'), np.str_('e'), np.str_('g'), np.str_('h'), np.str_('j'), np.str_('k'), np.str_('m'), np.str_('n'), np.str_('p'), np.str_('q'), np.str_('s'), np.str_('t'), np.str_('v'), np.str_('w'), np.str_('y'), np.str_('z')]\n"
          ]
        }
      ]
    },
    {
      "cell_type": "markdown",
      "source": [
        "EJERCICIO_08\n"
      ],
      "metadata": {
        "id": "i9o2vN_se_e4"
      }
    },
    {
      "cell_type": "code",
      "source": [
        "\n",
        "palabra = input(\"Ingresa una palabra: \").lower()\n",
        "np.save('ejercicios_practicos/ejercicio08.npy', [palabra])"
      ],
      "metadata": {
        "colab": {
          "base_uri": "https://localhost:8080/"
        },
        "id": "Tb6ylaEDfEeJ",
        "outputId": "0d53eb2d-16f7-4a6e-b82a-ec889dc416fc"
      },
      "execution_count": 99,
      "outputs": [
        {
          "name": "stdout",
          "output_type": "stream",
          "text": [
            "Ingresa una palabra: reconocer\n"
          ]
        }
      ]
    },
    {
      "cell_type": "code",
      "source": [
        "\n",
        "palabra = np.load('ejercicios_practicos/ejercicio08.npy', allow_pickle=True)[0]\n",
        "print(\"Es un palíndromo\" if palabra == palabra[::-1] else \"No es un palíndromo\")\n"
      ],
      "metadata": {
        "colab": {
          "base_uri": "https://localhost:8080/"
        },
        "id": "BIwC-18ZfeUE",
        "outputId": "4dff5337-a3a8-4b31-869d-6ef25173488f"
      },
      "execution_count": 100,
      "outputs": [
        {
          "output_type": "stream",
          "name": "stdout",
          "text": [
            "Es un palíndromo\n"
          ]
        }
      ]
    },
    {
      "cell_type": "markdown",
      "source": [
        "EJERCICIO_09"
      ],
      "metadata": {
        "id": "x9n3Hai4gSqE"
      }
    },
    {
      "cell_type": "code",
      "source": [
        "import numpy as np\n",
        "p = input(\"Ingresa una palabra: \").lower()\n",
        "np.save('ejercicios_practicos/ejercicio09.npy', [p])\n"
      ],
      "metadata": {
        "colab": {
          "base_uri": "https://localhost:8080/"
        },
        "id": "w-Il35nIgVFE",
        "outputId": "f60a3a89-94ab-4dc0-b295-514f56b9c21a"
      },
      "execution_count": 103,
      "outputs": [
        {
          "name": "stdout",
          "output_type": "stream",
          "text": [
            "Ingresa una palabra: ELEFANTE\n"
          ]
        }
      ]
    },
    {
      "cell_type": "code",
      "source": [
        "import numpy as np\n",
        "p = np.load('ejercicios_practicos/ejercicio09.npy', allow_pickle=True)[0]\n",
        "for v in 'aeiou':\n",
        "    print(f\"{v}: {p.count(v)}\")\n"
      ],
      "metadata": {
        "colab": {
          "base_uri": "https://localhost:8080/"
        },
        "id": "4ud4PUw6gh2m",
        "outputId": "16338034-5128-46bd-c5d6-f64911dadf08"
      },
      "execution_count": 104,
      "outputs": [
        {
          "output_type": "stream",
          "name": "stdout",
          "text": [
            "a: 1\n",
            "e: 3\n",
            "i: 0\n",
            "o: 0\n",
            "u: 0\n"
          ]
        }
      ]
    },
    {
      "cell_type": "markdown",
      "source": [
        "EJERCICIO_10"
      ],
      "metadata": {
        "id": "nU206Hcfgv5w"
      }
    },
    {
      "cell_type": "code",
      "source": [
        "import numpy as np\n",
        "precios = [50, 75, 46, 22, 80, 65, 8]\n",
        "np.save('ejercicios_practicos/ejercicio10.npy', precios)\n"
      ],
      "metadata": {
        "id": "-9Yq7ILcg8-i"
      },
      "execution_count": 106,
      "outputs": []
    },
    {
      "cell_type": "code",
      "source": [
        "import numpy as np\n",
        "precios = np.load('ejercicios_practicos/ejercicio10.npy')\n",
        "print(\"Menor precio:\", min(precios))\n",
        "print(\"Mayor precio:\", max(precios))\n"
      ],
      "metadata": {
        "colab": {
          "base_uri": "https://localhost:8080/"
        },
        "id": "M2t0kDnOhaen",
        "outputId": "71eec039-c804-4c18-9a82-f1fece69b4ff"
      },
      "execution_count": 107,
      "outputs": [
        {
          "output_type": "stream",
          "name": "stdout",
          "text": [
            "Menor precio: 8\n",
            "Mayor precio: 80\n"
          ]
        }
      ]
    },
    {
      "cell_type": "markdown",
      "source": [
        "EJERCICIO_11\n"
      ],
      "metadata": {
        "id": "yYD3FvVGhy8x"
      }
    },
    {
      "cell_type": "code",
      "source": [
        "import numpy as np\n",
        "v1 = [1, 2, 3]\n",
        "v2 = [-1, 0, 2]\n",
        "np.save('ejercicios_practicos/ejercicio11.npy', [v1, v2])\n"
      ],
      "metadata": {
        "id": "9ToYdWJ0h1vi"
      },
      "execution_count": 108,
      "outputs": []
    },
    {
      "cell_type": "code",
      "source": [
        "import numpy as np\n",
        "v1, v2 = np.load('ejercicios_practicos/ejercicio11.npy', allow_pickle=True)\n",
        "producto = sum(a * b for a, b in zip(v1, v2))\n",
        "print(\"Producto escalar:\", producto)\n"
      ],
      "metadata": {
        "colab": {
          "base_uri": "https://localhost:8080/"
        },
        "id": "0qn1rjDlh-t9",
        "outputId": "d73d3561-a1c0-4a08-dae5-4305adcd8e09"
      },
      "execution_count": 109,
      "outputs": [
        {
          "output_type": "stream",
          "name": "stdout",
          "text": [
            "Producto escalar: 5\n"
          ]
        }
      ]
    },
    {
      "cell_type": "markdown",
      "source": [
        "EJERCICIO_12\n"
      ],
      "metadata": {
        "id": "CQ7vYCaWiW_3"
      }
    },
    {
      "cell_type": "code",
      "source": [
        "import numpy as np\n",
        "A = [[1, 2], [3, 4]]\n",
        "B = [[2, 0], [1, 2]]\n",
        "np.save('ejercicios_practicos/ejercicio12.npy', [A, B])\n"
      ],
      "metadata": {
        "id": "0V7a2DWniY_A"
      },
      "execution_count": 110,
      "outputs": []
    },
    {
      "cell_type": "code",
      "source": [
        "import numpy as np\n",
        "A, B = np.load('ejercicios_practicos/ejercicio12.npy', allow_pickle=True)\n",
        "resultado = np.matmul(A, B)\n",
        "print(\"Producto de matrices:\")\n",
        "print(resultado)\n"
      ],
      "metadata": {
        "colab": {
          "base_uri": "https://localhost:8080/"
        },
        "id": "B053bMlpibWv",
        "outputId": "dbde2b70-fd65-4773-8b38-8d6bd7ed65eb"
      },
      "execution_count": 111,
      "outputs": [
        {
          "output_type": "stream",
          "name": "stdout",
          "text": [
            "Producto de matrices:\n",
            "[[ 4  4]\n",
            " [10  8]]\n"
          ]
        }
      ]
    },
    {
      "cell_type": "markdown",
      "source": [
        "EJERCICIO_13\n"
      ],
      "metadata": {
        "id": "GOZBS2nyj0sU"
      }
    },
    {
      "cell_type": "code",
      "source": [
        "import numpy as np\n",
        "entrada = input(\"Ingresa números separados por comas: \")\n",
        "numeros = [float(x) for x in entrada.split(',')]\n",
        "np.save('ejercicios_practicos/ejercicio13.npy', numeros)\n"
      ],
      "metadata": {
        "colab": {
          "base_uri": "https://localhost:8080/"
        },
        "id": "4yRN4pUKj25E",
        "outputId": "1f5cbfe5-768a-46fd-a0bb-5beac71c2977"
      },
      "execution_count": 115,
      "outputs": [
        {
          "name": "stdout",
          "output_type": "stream",
          "text": [
            "Ingresa números separados por comas: 10,20,30\n"
          ]
        }
      ]
    },
    {
      "cell_type": "code",
      "source": [
        "import numpy as np\n",
        "numeros = np.load('ejercicios_practicos/ejercicio13.npy')\n",
        "media = np.mean(numeros)\n",
        "desviacion = np.std(numeros)\n",
        "print(\"Media:\", media)\n",
        "print(\"Desviación típica:\", desviacion)\n"
      ],
      "metadata": {
        "colab": {
          "base_uri": "https://localhost:8080/"
        },
        "id": "q0gPacfYj5Ns",
        "outputId": "8002bb80-ce62-4c3f-86b2-6af28ebe316f"
      },
      "execution_count": 116,
      "outputs": [
        {
          "output_type": "stream",
          "name": "stdout",
          "text": [
            "Media: 20.0\n",
            "Desviación típica: 8.16496580927726\n"
          ]
        }
      ]
    }
  ]
}