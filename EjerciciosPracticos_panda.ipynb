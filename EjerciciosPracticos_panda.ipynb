{
  "nbformat": 4,
  "nbformat_minor": 0,
  "metadata": {
    "colab": {
      "provenance": [],
      "authorship_tag": "ABX9TyNhRRPNJbBPuyWI9/sHracW",
      "include_colab_link": true
    },
    "kernelspec": {
      "name": "python3",
      "display_name": "Python 3"
    },
    "language_info": {
      "name": "python"
    }
  },
  "cells": [
    {
      "cell_type": "markdown",
      "metadata": {
        "id": "view-in-github",
        "colab_type": "text"
      },
      "source": [
        "<a href=\"https://colab.research.google.com/github/luisantoniounocc/ejemplos/blob/main/EjerciciosPracticos_panda.ipynb\" target=\"_parent\"><img src=\"https://colab.research.google.com/assets/colab-badge.svg\" alt=\"Open In Colab\"/></a>"
      ]
    },
    {
      "cell_type": "code",
      "source": [
        "#Escribir un programa que pregunte al usuario por las ventas de un rango de años y muestre por pantalla una serie\n",
        "#con los datos de las ventas indexada por los años, antes y después de aplicarles un descuento del 10%.\n",
        "\n",
        "import pandas as pd\n",
        "# Pedir al usuario el rango de años\n",
        "año_inicio = int(input(\"Ingrese el año de inicio: \"))\n",
        "año_fin = int(input(\"Ingrese el año de fin: \"))\n",
        "# Crear una lista para almacenar las ventas\n",
        "ventas = []\n",
        "# Pedir al usuario las ventas para cada año en el rango\n",
        "for año in range(año_inicio, año_fin + 1):\n",
        "  venta = float(input(f\"Ingrese las ventas para el año {año}: \"))\n",
        "  ventas.append(venta)\n",
        "# Crear una serie de pandas con las ventas indexada por los años\n",
        "serie_ventas = pd.Series(ventas, index=range(año_inicio, año_fin + 1))\n",
        "# Aplicar un descuento del 10% a las ventas\n",
        "serie_ventas_con_descuento = serie_ventas * 0.9\n",
        "# Mostrar las series de ventas\n",
        "print(\"\\nVentas antes del descuento:\")\n",
        "print(serie_ventas)\n",
        "print(\"\\nVentas después del descuento (10%):\")\n",
        "serie_ventas_con_descuento"
      ],
      "metadata": {
        "colab": {
          "base_uri": "https://localhost:8080/",
          "height": 337
        },
        "id": "smYMfE2dv0sy",
        "outputId": "7bf3da1c-2e4f-476e-c993-f26a62cd36e1"
      },
      "execution_count": 2,
      "outputs": [
        {
          "output_type": "stream",
          "name": "stdout",
          "text": [
            "Ingrese el año de inicio: 2000\n",
            "Ingrese el año de fin: 2001\n",
            "Ingrese las ventas para el año 2000: 20\n",
            "Ingrese las ventas para el año 2001: 30\n",
            "\n",
            "Ventas antes del descuento:\n",
            "2000    20.0\n",
            "2001    30.0\n",
            "dtype: float64\n",
            "\n",
            "Ventas después del descuento (10%):\n"
          ]
        },
        {
          "output_type": "execute_result",
          "data": {
            "text/plain": [
              "2000    18.0\n",
              "2001    27.0\n",
              "dtype: float64"
            ],
            "text/html": [
              "<div>\n",
              "<style scoped>\n",
              "    .dataframe tbody tr th:only-of-type {\n",
              "        vertical-align: middle;\n",
              "    }\n",
              "\n",
              "    .dataframe tbody tr th {\n",
              "        vertical-align: top;\n",
              "    }\n",
              "\n",
              "    .dataframe thead th {\n",
              "        text-align: right;\n",
              "    }\n",
              "</style>\n",
              "<table border=\"1\" class=\"dataframe\">\n",
              "  <thead>\n",
              "    <tr style=\"text-align: right;\">\n",
              "      <th></th>\n",
              "      <th>0</th>\n",
              "    </tr>\n",
              "  </thead>\n",
              "  <tbody>\n",
              "    <tr>\n",
              "      <th>2000</th>\n",
              "      <td>18.0</td>\n",
              "    </tr>\n",
              "    <tr>\n",
              "      <th>2001</th>\n",
              "      <td>27.0</td>\n",
              "    </tr>\n",
              "  </tbody>\n",
              "</table>\n",
              "</div><br><label><b>dtype:</b> float64</label>"
            ]
          },
          "metadata": {},
          "execution_count": 2
        }
      ]
    }
  ]
}