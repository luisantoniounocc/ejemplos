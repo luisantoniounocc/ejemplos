{
  "nbformat": 4,
  "nbformat_minor": 0,
  "metadata": {
    "colab": {
      "provenance": [],
      "authorship_tag": "ABX9TyOx+2/KT5IRJpDXaK09QXg4",
      "include_colab_link": true
    },
    "kernelspec": {
      "name": "python3",
      "display_name": "Python 3"
    },
    "language_info": {
      "name": "python"
    }
  },
  "cells": [
    {
      "cell_type": "markdown",
      "metadata": {
        "id": "view-in-github",
        "colab_type": "text"
      },
      "source": [
        "<a href=\"https://colab.research.google.com/github/luisantoniounocc/ejemplos/blob/main/EjerciciosPracticos_panda.ipynb\" target=\"_parent\"><img src=\"https://colab.research.google.com/assets/colab-badge.svg\" alt=\"Open In Colab\"/></a>"
      ]
    },
    {
      "cell_type": "markdown",
      "source": [
        "EJERCICIO 01"
      ],
      "metadata": {
        "id": "k-AGOMcux1bk"
      }
    },
    {
      "cell_type": "code",
      "source": [
        "#Escribir un programa que pregunte al usuario por las ventas de un rango de años y muestre por pantalla una serie\n",
        "#con los datos de las ventas indexada por los años, antes y después de aplicarles un descuento del 10%.\n",
        "\n",
        "import pandas as pd\n",
        "\n",
        "años = input(\"Ingrese los años separados por comas: \")\n",
        "ventas = input(\"Ingrese las ventas correspondientes separadas por comas: \")\n",
        "\n",
        "lista_años = [int(a) for a in años.split(\",\")]\n",
        "lista_ventas = [float(v) for v in ventas.split(\",\")]\n",
        "\n",
        "serie_ventas = pd.Series(lista_ventas, index=lista_años, name=\"Ventas originales\")\n",
        "serie_descuento = serie_ventas * 0.90\n",
        "serie_descuento.name = \"Ventas con descuento\"\n",
        "\n",
        "print(\"\\nVentas originales:\")\n",
        "print(serie_ventas)\n",
        "print(\"\\nVentas con 10% de descuento:\")\n",
        "print(serie_descuento)\n"
      ],
      "metadata": {
        "colab": {
          "base_uri": "https://localhost:8080/"
        },
        "id": "smYMfE2dv0sy",
        "outputId": "c17b5d1e-119b-4bf7-8330-253dd42875e9"
      },
      "execution_count": 7,
      "outputs": [
        {
          "output_type": "stream",
          "name": "stdout",
          "text": [
            "Ingrese los años separados por comas: 2020\n",
            "Ingrese las ventas correspondientes separadas por comas: 30\n",
            "\n",
            "Ventas originales:\n",
            "2020    30.0\n",
            "Name: Ventas originales, dtype: float64\n",
            "\n",
            "Ventas con 10% de descuento:\n",
            "2020    27.0\n",
            "Name: Ventas con descuento, dtype: float64\n"
          ]
        }
      ]
    },
    {
      "cell_type": "markdown",
      "source": [
        "EJERCICIO_02"
      ],
      "metadata": {
        "id": "ws6m0gytyDZ2"
      }
    },
    {
      "cell_type": "code",
      "source": [
        "import pandas as pd\n",
        "\n",
        "def resumen_notas(diccionario_notas):\n",
        "    notas = pd.Series(diccionario_notas)\n",
        "    resumen = pd.Series({\n",
        "        'Nota mínima': notas.min(),\n",
        "        'Nota máxima': notas.max(),\n",
        "        'Media': notas.mean(),\n",
        "        'Desviación típica': notas.std()\n",
        "    })\n",
        "    return resumen\n",
        "\n",
        "notas_alumnos = {\n",
        "    'Ana': 15,\n",
        "    'Luis': 17,\n",
        "    'María': 14,\n",
        "    'Pedro': 18,\n",
        "    'Lucía': 20\n",
        "}\n",
        "\n",
        "resultado = resumen_notas(notas_alumnos)\n",
        "print(resultado)\n"
      ],
      "metadata": {
        "colab": {
          "base_uri": "https://localhost:8080/"
        },
        "id": "TF2hd6o_xzKU",
        "outputId": "763d5369-0519-4ddd-8734-9aa464cbf152"
      },
      "execution_count": 6,
      "outputs": [
        {
          "output_type": "stream",
          "name": "stdout",
          "text": [
            "Nota mínima          14.000000\n",
            "Nota máxima          20.000000\n",
            "Media                16.800000\n",
            "Desviación típica     2.387467\n",
            "dtype: float64\n"
          ]
        }
      ]
    }
  ]
}